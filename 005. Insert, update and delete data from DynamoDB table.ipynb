{
 "cells": [
  {
   "cell_type": "markdown",
   "id": "8bcf39ea",
   "metadata": {},
   "source": [
    "# Read data from DynamoDB table"
   ]
  },
  {
   "cell_type": "markdown",
   "id": "38f114b5",
   "metadata": {},
   "source": [
    "## Import modules"
   ]
  },
  {
   "cell_type": "code",
   "execution_count": 1,
   "id": "48a7e376",
   "metadata": {},
   "outputs": [],
   "source": [
    "import boto3\n",
    "import yaml"
   ]
  },
  {
   "cell_type": "markdown",
   "id": "3f8b01a4",
   "metadata": {},
   "source": [
    "## Variables"
   ]
  },
  {
   "cell_type": "code",
   "execution_count": 2,
   "id": "01c3462d",
   "metadata": {},
   "outputs": [],
   "source": [
    "TABLENAME='simpsonsEpisodes'"
   ]
  },
  {
   "cell_type": "markdown",
   "id": "492f9596",
   "metadata": {},
   "source": [
    "## Get credentials"
   ]
  },
  {
   "cell_type": "code",
   "execution_count": 3,
   "id": "6d092082",
   "metadata": {},
   "outputs": [],
   "source": [
    "# Load credentials from YAML file\n",
    "with open(\"credentials.yml\", \"r\") as keyholder:\n",
    "    try:\n",
    "        credentials=yaml.safe_load(keyholder)\n",
    "    except yaml.YAMLError as exc:\n",
    "        print(exc)"
   ]
  },
  {
   "cell_type": "code",
   "execution_count": 4,
   "id": "93a84554",
   "metadata": {},
   "outputs": [],
   "source": [
    "AWS_SERVER_PUBLIC_KEY=credentials['dynamodb']['AWS_SERVER_PUBLIC_KEY']\n",
    "AWS_SERVER_SECRET_KEY=credentials['dynamodb']['AWS_SERVER_SECRET_KEY']\n",
    "REGION_NAME=credentials['dynamodb']['REGION_NAME']"
   ]
  },
  {
   "cell_type": "markdown",
   "id": "9c696577",
   "metadata": {},
   "source": [
    "## DynamoDB client and resource"
   ]
  },
  {
   "cell_type": "markdown",
   "id": "0a07f6ba",
   "metadata": {},
   "source": [
    "### Create boto3 client for DynamoDb"
   ]
  },
  {
   "cell_type": "code",
   "execution_count": 5,
   "id": "7fbd8045",
   "metadata": {},
   "outputs": [],
   "source": [
    "dynamodbClient = boto3.client(\n",
    "    \"dynamodb\",\n",
    "    region_name=REGION_NAME,\n",
    "    aws_access_key_id=AWS_SERVER_PUBLIC_KEY,\n",
    "    aws_secret_access_key=AWS_SERVER_SECRET_KEY,\n",
    ")"
   ]
  },
  {
   "cell_type": "code",
   "execution_count": 6,
   "id": "eafb4448",
   "metadata": {},
   "outputs": [
    {
     "data": {
      "text/plain": [
       "<botocore.client.DynamoDB at 0x7f7d8a2e9850>"
      ]
     },
     "execution_count": 6,
     "metadata": {},
     "output_type": "execute_result"
    }
   ],
   "source": [
    "dynamodbClient"
   ]
  },
  {
   "cell_type": "markdown",
   "id": "e30027ba",
   "metadata": {},
   "source": [
    "### Create boto3 resource for DynamoDb"
   ]
  },
  {
   "cell_type": "code",
   "execution_count": 7,
   "id": "1efc5f43",
   "metadata": {},
   "outputs": [],
   "source": [
    "dynamodbRes = boto3.resource(\n",
    "    \"dynamodb\",\n",
    "    region_name=REGION_NAME,\n",
    "    aws_access_key_id=AWS_SERVER_PUBLIC_KEY,\n",
    "    aws_secret_access_key=AWS_SERVER_SECRET_KEY,\n",
    ")"
   ]
  },
  {
   "cell_type": "code",
   "execution_count": 8,
   "id": "37e8b3a6",
   "metadata": {},
   "outputs": [
    {
     "data": {
      "text/plain": [
       "dynamodb.ServiceResource()"
      ]
     },
     "execution_count": 8,
     "metadata": {},
     "output_type": "execute_result"
    }
   ],
   "source": [
    "dynamodbRes"
   ]
  },
  {
   "cell_type": "markdown",
   "id": "a5c0a6eb",
   "metadata": {},
   "source": [
    "## Put item (insert data)"
   ]
  },
  {
   "cell_type": "code",
   "execution_count": 9,
   "id": "bc70ac57",
   "metadata": {},
   "outputs": [],
   "source": [
    "table = dynamodbRes.Table(TABLENAME)\n",
    "\n",
    "response = table.put_item(\n",
    "    Item={\n",
    "        'No_Season': 99,\n",
    "        'No_Inseason': 1,\n",
    "        'ProdCode':'99NS01',\n",
    "        'OriginalAirDate':'2030-01-01',\n",
    "        'Title':'Best episode ever!'\n",
    "    }\n",
    ")"
   ]
  },
  {
   "cell_type": "code",
   "execution_count": 10,
   "id": "dd4be02a",
   "metadata": {},
   "outputs": [
    {
     "data": {
      "text/plain": [
       "{'ResponseMetadata': {'RequestId': '92HH7P4B4QNTIVBHPG02HGE827VV4KQNSO5AEMVJF66Q9ASUAAJG',\n",
       "  'HTTPStatusCode': 200,\n",
       "  'HTTPHeaders': {'server': 'Server',\n",
       "   'date': 'Wed, 07 Dec 2022 16:23:12 GMT',\n",
       "   'content-type': 'application/x-amz-json-1.0',\n",
       "   'content-length': '2',\n",
       "   'connection': 'keep-alive',\n",
       "   'x-amzn-requestid': '92HH7P4B4QNTIVBHPG02HGE827VV4KQNSO5AEMVJF66Q9ASUAAJG',\n",
       "   'x-amz-crc32': '2745614147'},\n",
       "  'RetryAttempts': 0}}"
      ]
     },
     "execution_count": 10,
     "metadata": {},
     "output_type": "execute_result"
    }
   ],
   "source": [
    "response"
   ]
  },
  {
   "cell_type": "code",
   "execution_count": 11,
   "id": "a87e30d7",
   "metadata": {},
   "outputs": [],
   "source": [
    "response = dynamodbClient.get_item(\n",
    "    TableName=TABLENAME,\n",
    "    Key={\n",
    "        'No_Season': {'N': '99'},\n",
    "        'No_Inseason': {'N': '1'}\n",
    "    }\n",
    ")"
   ]
  },
  {
   "cell_type": "code",
   "execution_count": 12,
   "id": "c0ba505e",
   "metadata": {},
   "outputs": [
    {
     "name": "stdout",
     "output_type": "stream",
     "text": [
      "{'Title': {'S': 'Best episode ever!'}, 'ProdCode': {'S': '99NS01'}, 'OriginalAirDate': {'S': '2030-01-01'}, 'No_Season': {'N': '99'}, 'No_Inseason': {'N': '1'}}\n"
     ]
    }
   ],
   "source": [
    "print(response['Item'])"
   ]
  },
  {
   "cell_type": "markdown",
   "id": "efbdf257",
   "metadata": {},
   "source": [
    "## Update item"
   ]
  },
  {
   "cell_type": "code",
   "execution_count": 13,
   "id": "39529177",
   "metadata": {},
   "outputs": [],
   "source": [
    "table = dynamodbRes.Table(TABLENAME)\n",
    "\n",
    "response = table.update_item(\n",
    "    Key={\n",
    "        'No_Season': 99,\n",
    "        'No_Inseason' : 1\n",
    "    },\n",
    "    UpdateExpression='SET Title = :newTitle',\n",
    "    ExpressionAttributeValues={\n",
    "        ':newTitle': 'Worst episode ever!'\n",
    "    },\n",
    "    ReturnValues=\"UPDATED_NEW\"\n",
    ")"
   ]
  },
  {
   "cell_type": "code",
   "execution_count": 14,
   "id": "a03e8fc4",
   "metadata": {},
   "outputs": [
    {
     "data": {
      "text/plain": [
       "{'Attributes': {'Title': 'Worst episode ever!'},\n",
       " 'ResponseMetadata': {'RequestId': 'MOUB7GEBMHP84TIC5FVMQBK8D3VV4KQNSO5AEMVJF66Q9ASUAAJG',\n",
       "  'HTTPStatusCode': 200,\n",
       "  'HTTPHeaders': {'server': 'Server',\n",
       "   'date': 'Wed, 07 Dec 2022 16:23:17 GMT',\n",
       "   'content-type': 'application/x-amz-json-1.0',\n",
       "   'content-length': '52',\n",
       "   'connection': 'keep-alive',\n",
       "   'x-amzn-requestid': 'MOUB7GEBMHP84TIC5FVMQBK8D3VV4KQNSO5AEMVJF66Q9ASUAAJG',\n",
       "   'x-amz-crc32': '1885714143'},\n",
       "  'RetryAttempts': 0}}"
      ]
     },
     "execution_count": 14,
     "metadata": {},
     "output_type": "execute_result"
    }
   ],
   "source": [
    "response"
   ]
  },
  {
   "cell_type": "code",
   "execution_count": 15,
   "id": "3d855ed6",
   "metadata": {},
   "outputs": [],
   "source": [
    "response = dynamodbClient.get_item(\n",
    "    TableName=TABLENAME,\n",
    "    Key={\n",
    "        'No_Season': {'N': '99'},\n",
    "        'No_Inseason': {'N': '1'}\n",
    "    }\n",
    ")"
   ]
  },
  {
   "cell_type": "code",
   "execution_count": 16,
   "id": "ca85db66",
   "metadata": {},
   "outputs": [
    {
     "name": "stdout",
     "output_type": "stream",
     "text": [
      "{'ProdCode': {'S': '99NS01'}, 'Title': {'S': 'Worst episode ever!'}, 'OriginalAirDate': {'S': '2030-01-01'}, 'No_Season': {'N': '99'}, 'No_Inseason': {'N': '1'}}\n"
     ]
    }
   ],
   "source": [
    "print(response['Item'])"
   ]
  },
  {
   "cell_type": "markdown",
   "id": "58082669",
   "metadata": {},
   "source": [
    "## Delete item"
   ]
  },
  {
   "cell_type": "code",
   "execution_count": 17,
   "id": "def2bbf8",
   "metadata": {},
   "outputs": [],
   "source": [
    "table = dynamodbRes.Table(TABLENAME)\n",
    "\n",
    "response = table.delete_item(Key={\n",
    "        'No_Season': 99,\n",
    "        'No_Inseason' : 1\n",
    "})"
   ]
  },
  {
   "cell_type": "code",
   "execution_count": 18,
   "id": "fa8378c2",
   "metadata": {},
   "outputs": [
    {
     "data": {
      "text/plain": [
       "{'ResponseMetadata': {'RequestId': 'HDBP9LNV4B5R1HHM35KEORVPKNVV4KQNSO5AEMVJF66Q9ASUAAJG',\n",
       "  'HTTPStatusCode': 200,\n",
       "  'HTTPHeaders': {'server': 'Server',\n",
       "   'date': 'Wed, 07 Dec 2022 16:23:22 GMT',\n",
       "   'content-type': 'application/x-amz-json-1.0',\n",
       "   'content-length': '2',\n",
       "   'connection': 'keep-alive',\n",
       "   'x-amzn-requestid': 'HDBP9LNV4B5R1HHM35KEORVPKNVV4KQNSO5AEMVJF66Q9ASUAAJG',\n",
       "   'x-amz-crc32': '2745614147'},\n",
       "  'RetryAttempts': 0}}"
      ]
     },
     "execution_count": 18,
     "metadata": {},
     "output_type": "execute_result"
    }
   ],
   "source": [
    "response"
   ]
  },
  {
   "cell_type": "code",
   "execution_count": 19,
   "id": "fdd41c32",
   "metadata": {},
   "outputs": [],
   "source": [
    "response = dynamodbClient.get_item(\n",
    "    TableName=TABLENAME,\n",
    "    Key={\n",
    "        'No_Season': {'N': '99'},\n",
    "        'No_Inseason': {'N': '1'}\n",
    "    }\n",
    ")"
   ]
  },
  {
   "cell_type": "code",
   "execution_count": 20,
   "id": "ad048050",
   "metadata": {},
   "outputs": [
    {
     "name": "stdout",
     "output_type": "stream",
     "text": [
      "{'ResponseMetadata': {'RequestId': 'GROJEI7E6NSBOA5U6EB4EGANLBVV4KQNSO5AEMVJF66Q9ASUAAJG', 'HTTPStatusCode': 200, 'HTTPHeaders': {'server': 'Server', 'date': 'Wed, 07 Dec 2022 16:23:22 GMT', 'content-type': 'application/x-amz-json-1.0', 'content-length': '2', 'connection': 'keep-alive', 'x-amzn-requestid': 'GROJEI7E6NSBOA5U6EB4EGANLBVV4KQNSO5AEMVJF66Q9ASUAAJG', 'x-amz-crc32': '2745614147'}, 'RetryAttempts': 0}}\n"
     ]
    }
   ],
   "source": [
    "print(response)"
   ]
  }
 ],
 "metadata": {
  "kernelspec": {
   "display_name": "my_env",
   "language": "python",
   "name": "my_env"
  },
  "language_info": {
   "codemirror_mode": {
    "name": "ipython",
    "version": 3
   },
   "file_extension": ".py",
   "mimetype": "text/x-python",
   "name": "python",
   "nbconvert_exporter": "python",
   "pygments_lexer": "ipython3",
   "version": "3.8.0"
  }
 },
 "nbformat": 4,
 "nbformat_minor": 5
}
