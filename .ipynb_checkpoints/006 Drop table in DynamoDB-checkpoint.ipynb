{
 "cells": [
  {
   "cell_type": "markdown",
   "id": "8bcf39ea",
   "metadata": {},
   "source": [
    "# Drop table in DynamoDB"
   ]
  },
  {
   "cell_type": "markdown",
   "id": "38f114b5",
   "metadata": {},
   "source": [
    "## Import modules"
   ]
  },
  {
   "cell_type": "code",
   "execution_count": 1,
   "id": "48a7e376",
   "metadata": {},
   "outputs": [],
   "source": [
    "import boto3\n",
    "import yaml"
   ]
  },
  {
   "cell_type": "markdown",
   "id": "3f8b01a4",
   "metadata": {},
   "source": [
    "## Variables"
   ]
  },
  {
   "cell_type": "code",
   "execution_count": 2,
   "id": "01c3462d",
   "metadata": {},
   "outputs": [],
   "source": [
    "TABLENAME='simpsonsEpisodes'"
   ]
  },
  {
   "cell_type": "markdown",
   "id": "492f9596",
   "metadata": {},
   "source": [
    "## Get credentials"
   ]
  },
  {
   "cell_type": "code",
   "execution_count": 3,
   "id": "6d092082",
   "metadata": {},
   "outputs": [],
   "source": [
    "# Load credentials from YAML file\n",
    "with open(\"credentials.yml\", \"r\") as keyholder:\n",
    "    try:\n",
    "        credentials=yaml.safe_load(keyholder)\n",
    "    except yaml.YAMLError as exc:\n",
    "        print(exc)"
   ]
  },
  {
   "cell_type": "code",
   "execution_count": 4,
   "id": "93a84554",
   "metadata": {},
   "outputs": [],
   "source": [
    "AWS_SERVER_PUBLIC_KEY=credentials['dynamodb']['AWS_SERVER_PUBLIC_KEY']\n",
    "AWS_SERVER_SECRET_KEY=credentials['dynamodb']['AWS_SERVER_SECRET_KEY']\n",
    "REGION_NAME=credentials['dynamodb']['REGION_NAME']"
   ]
  },
  {
   "cell_type": "markdown",
   "id": "9c696577",
   "metadata": {},
   "source": [
    "## DynamoDB client and resource"
   ]
  },
  {
   "cell_type": "markdown",
   "id": "0a07f6ba",
   "metadata": {},
   "source": [
    "### Create boto3 client for DynamoDb"
   ]
  },
  {
   "cell_type": "code",
   "execution_count": 5,
   "id": "7fbd8045",
   "metadata": {},
   "outputs": [],
   "source": [
    "dynamodbClient = boto3.client(\n",
    "    \"dynamodb\",\n",
    "    region_name=REGION_NAME,\n",
    "    aws_access_key_id=AWS_SERVER_PUBLIC_KEY,\n",
    "    aws_secret_access_key=AWS_SERVER_SECRET_KEY,\n",
    ")"
   ]
  },
  {
   "cell_type": "code",
   "execution_count": 6,
   "id": "eafb4448",
   "metadata": {},
   "outputs": [
    {
     "data": {
      "text/plain": [
       "<botocore.client.DynamoDB at 0x7f97d0eb2850>"
      ]
     },
     "execution_count": 6,
     "metadata": {},
     "output_type": "execute_result"
    }
   ],
   "source": [
    "dynamodbClient"
   ]
  },
  {
   "cell_type": "markdown",
   "id": "e30027ba",
   "metadata": {},
   "source": [
    "### Create boto3 resource for DynamoDb"
   ]
  },
  {
   "cell_type": "code",
   "execution_count": 7,
   "id": "1efc5f43",
   "metadata": {},
   "outputs": [],
   "source": [
    "dynamodbRes = boto3.resource(\n",
    "    \"dynamodb\",\n",
    "    region_name=REGION_NAME,\n",
    "    aws_access_key_id=AWS_SERVER_PUBLIC_KEY,\n",
    "    aws_secret_access_key=AWS_SERVER_SECRET_KEY,\n",
    ")"
   ]
  },
  {
   "cell_type": "code",
   "execution_count": 8,
   "id": "37e8b3a6",
   "metadata": {},
   "outputs": [
    {
     "data": {
      "text/plain": [
       "dynamodb.ServiceResource()"
      ]
     },
     "execution_count": 8,
     "metadata": {},
     "output_type": "execute_result"
    }
   ],
   "source": [
    "dynamodbRes"
   ]
  },
  {
   "cell_type": "markdown",
   "id": "96372ddd",
   "metadata": {},
   "source": [
    "## Get list of tables"
   ]
  },
  {
   "cell_type": "code",
   "execution_count": 9,
   "id": "25ca882e",
   "metadata": {},
   "outputs": [
    {
     "name": "stdout",
     "output_type": "stream",
     "text": [
      "[dynamodb.Table(name='simpsonsEpisodes')]\n"
     ]
    }
   ],
   "source": [
    "tables = list(dynamodbRes.tables.all())\n",
    "print(tables)"
   ]
  },
  {
   "cell_type": "markdown",
   "id": "413c800e",
   "metadata": {},
   "source": [
    "## Delete table"
   ]
  },
  {
   "cell_type": "code",
   "execution_count": 10,
   "id": "dfc339dd",
   "metadata": {},
   "outputs": [
    {
     "data": {
      "text/plain": [
       "{'TableDescription': {'TableName': 'simpsonsEpisodes',\n",
       "  'TableStatus': 'DELETING',\n",
       "  'ProvisionedThroughput': {'NumberOfDecreasesToday': 0,\n",
       "   'ReadCapacityUnits': 1,\n",
       "   'WriteCapacityUnits': 1},\n",
       "  'TableSizeBytes': 0,\n",
       "  'ItemCount': 0,\n",
       "  'TableArn': 'arn:aws:dynamodb:us-east-1:526274010548:table/simpsonsEpisodes',\n",
       "  'TableId': '68a43e23-8341-4de6-ba2c-d89e650166b8'},\n",
       " 'ResponseMetadata': {'RequestId': 'VF4KF4SKTE0TV75R61MFKQ19EBVV4KQNSO5AEMVJF66Q9ASUAAJG',\n",
       "  'HTTPStatusCode': 200,\n",
       "  'HTTPHeaders': {'server': 'Server',\n",
       "   'date': 'Wed, 07 Dec 2022 16:24:09 GMT',\n",
       "   'content-type': 'application/x-amz-json-1.0',\n",
       "   'content-length': '334',\n",
       "   'connection': 'keep-alive',\n",
       "   'x-amzn-requestid': 'VF4KF4SKTE0TV75R61MFKQ19EBVV4KQNSO5AEMVJF66Q9ASUAAJG',\n",
       "   'x-amz-crc32': '225399914'},\n",
       "  'RetryAttempts': 0}}"
      ]
     },
     "execution_count": 10,
     "metadata": {},
     "output_type": "execute_result"
    }
   ],
   "source": [
    "dynamodbClient.delete_table(\n",
    "    TableName=TABLENAME\n",
    ")"
   ]
  },
  {
   "cell_type": "code",
   "execution_count": 12,
   "id": "5e61764d",
   "metadata": {},
   "outputs": [
    {
     "name": "stdout",
     "output_type": "stream",
     "text": [
      "[]\n"
     ]
    }
   ],
   "source": [
    "tables = list(dynamodbRes.tables.all())\n",
    "print(tables)"
   ]
  }
 ],
 "metadata": {
  "kernelspec": {
   "display_name": "my_env",
   "language": "python",
   "name": "my_env"
  },
  "language_info": {
   "codemirror_mode": {
    "name": "ipython",
    "version": 3
   },
   "file_extension": ".py",
   "mimetype": "text/x-python",
   "name": "python",
   "nbconvert_exporter": "python",
   "pygments_lexer": "ipython3",
   "version": "3.8.0"
  }
 },
 "nbformat": 4,
 "nbformat_minor": 5
}
