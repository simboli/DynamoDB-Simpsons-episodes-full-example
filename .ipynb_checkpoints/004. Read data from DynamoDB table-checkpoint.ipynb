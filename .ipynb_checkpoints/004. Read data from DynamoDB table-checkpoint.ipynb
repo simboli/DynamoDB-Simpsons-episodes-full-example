{
 "cells": [
  {
   "cell_type": "markdown",
   "id": "8bcf39ea",
   "metadata": {},
   "source": [
    "# Read data from DynamoDB table"
   ]
  },
  {
   "cell_type": "markdown",
   "id": "38f114b5",
   "metadata": {},
   "source": [
    "## Import modules"
   ]
  },
  {
   "cell_type": "code",
   "execution_count": 1,
   "id": "48a7e376",
   "metadata": {},
   "outputs": [],
   "source": [
    "import boto3\n",
    "from boto3.dynamodb.conditions import Key, Attr\n",
    "import yaml\n",
    "import json\n",
    "import pandas as pd"
   ]
  },
  {
   "cell_type": "markdown",
   "id": "3f8b01a4",
   "metadata": {},
   "source": [
    "## Variables"
   ]
  },
  {
   "cell_type": "code",
   "execution_count": 2,
   "id": "01c3462d",
   "metadata": {},
   "outputs": [],
   "source": [
    "TABLENAME='simpsonsEpisodes'"
   ]
  },
  {
   "cell_type": "markdown",
   "id": "492f9596",
   "metadata": {},
   "source": [
    "## Get credentials"
   ]
  },
  {
   "cell_type": "code",
   "execution_count": 3,
   "id": "6d092082",
   "metadata": {},
   "outputs": [],
   "source": [
    "# Load credentials from YAML file\n",
    "with open(\"credentials.yml\", \"r\") as keyholder:\n",
    "    try:\n",
    "        credentials=yaml.safe_load(keyholder)\n",
    "    except yaml.YAMLError as exc:\n",
    "        print(exc)"
   ]
  },
  {
   "cell_type": "code",
   "execution_count": 4,
   "id": "93a84554",
   "metadata": {},
   "outputs": [],
   "source": [
    "AWS_SERVER_PUBLIC_KEY=credentials['dynamodb']['AWS_SERVER_PUBLIC_KEY']\n",
    "AWS_SERVER_SECRET_KEY=credentials['dynamodb']['AWS_SERVER_SECRET_KEY']\n",
    "REGION_NAME=credentials['dynamodb']['REGION_NAME']"
   ]
  },
  {
   "cell_type": "markdown",
   "id": "9c696577",
   "metadata": {},
   "source": [
    "## DynamoDB client and resource"
   ]
  },
  {
   "cell_type": "markdown",
   "id": "0a07f6ba",
   "metadata": {},
   "source": [
    "### Create boto3 client for DynamoDb"
   ]
  },
  {
   "cell_type": "code",
   "execution_count": 5,
   "id": "7fbd8045",
   "metadata": {},
   "outputs": [],
   "source": [
    "dynamodbClient = boto3.client(\n",
    "    \"dynamodb\",\n",
    "    region_name=REGION_NAME,\n",
    "    aws_access_key_id=AWS_SERVER_PUBLIC_KEY,\n",
    "    aws_secret_access_key=AWS_SERVER_SECRET_KEY,\n",
    ")"
   ]
  },
  {
   "cell_type": "code",
   "execution_count": 6,
   "id": "eafb4448",
   "metadata": {},
   "outputs": [
    {
     "data": {
      "text/plain": [
       "<botocore.client.DynamoDB at 0x7fc590cbfd60>"
      ]
     },
     "execution_count": 6,
     "metadata": {},
     "output_type": "execute_result"
    }
   ],
   "source": [
    "dynamodbClient"
   ]
  },
  {
   "cell_type": "markdown",
   "id": "e30027ba",
   "metadata": {},
   "source": [
    "### Create boto3 resource for DynamoDb"
   ]
  },
  {
   "cell_type": "code",
   "execution_count": 7,
   "id": "1efc5f43",
   "metadata": {},
   "outputs": [],
   "source": [
    "dynamodbRes = boto3.resource(\n",
    "    \"dynamodb\",\n",
    "    region_name=REGION_NAME,\n",
    "    aws_access_key_id=AWS_SERVER_PUBLIC_KEY,\n",
    "    aws_secret_access_key=AWS_SERVER_SECRET_KEY,\n",
    ")"
   ]
  },
  {
   "cell_type": "code",
   "execution_count": 8,
   "id": "37e8b3a6",
   "metadata": {},
   "outputs": [
    {
     "data": {
      "text/plain": [
       "dynamodb.ServiceResource()"
      ]
     },
     "execution_count": 8,
     "metadata": {},
     "output_type": "execute_result"
    }
   ],
   "source": [
    "dynamodbRes"
   ]
  },
  {
   "cell_type": "markdown",
   "id": "a5c0a6eb",
   "metadata": {},
   "source": [
    "## Get item"
   ]
  },
  {
   "cell_type": "markdown",
   "id": "e1665bb9",
   "metadata": {},
   "source": [
    "### Get item with client"
   ]
  },
  {
   "cell_type": "code",
   "execution_count": 9,
   "id": "2c9d3cda",
   "metadata": {},
   "outputs": [],
   "source": [
    "response = dynamodbClient.get_item(\n",
    "    TableName=TABLENAME,\n",
    "    Key={\n",
    "        'No_Season': {'N': '1'},\n",
    "        'No_Inseason': {'N': '8'}\n",
    "    }\n",
    ")"
   ]
  },
  {
   "cell_type": "code",
   "execution_count": 10,
   "id": "9d518f52",
   "metadata": {},
   "outputs": [
    {
     "name": "stdout",
     "output_type": "stream",
     "text": [
      "{'Title': {'S': 'The Telltale Head'}, 'ProdCode': {'S': '7G07'}, 'OriginalAirDate': {'S': '1990-02-25'}, 'USViewers(millions)': {'N': '28'}, 'No_Season': {'N': '1'}, 'DirectedBy': {'SS': ['Rich Moore']}, 'No_Overall': {'N': '8'}, 'WrittenBy': {'SS': ['Al Jean', 'Matt Groening', 'Mike Reiss', 'Sam Simon']}, 'No_Inseason': {'N': '8'}}\n"
     ]
    }
   ],
   "source": [
    "print(response['Item'])"
   ]
  },
  {
   "cell_type": "markdown",
   "id": "dbf4a7c9",
   "metadata": {},
   "source": [
    "### Get item with resource"
   ]
  },
  {
   "cell_type": "code",
   "execution_count": 11,
   "id": "fb7c98a0",
   "metadata": {},
   "outputs": [],
   "source": [
    "table = dynamodbRes.Table(TABLENAME)\n",
    "\n",
    "response = table.get_item(\n",
    "    Key={\n",
    "        'No_Season': 1,\n",
    "        'No_Inseason': 8\n",
    "    }\n",
    ")\n"
   ]
  },
  {
   "cell_type": "code",
   "execution_count": 12,
   "id": "a19144a3",
   "metadata": {},
   "outputs": [
    {
     "name": "stdout",
     "output_type": "stream",
     "text": [
      "{'Title': 'The Telltale Head', 'ProdCode': '7G07', 'OriginalAirDate': '1990-02-25', 'USViewers(millions)': Decimal('28'), 'No_Season': Decimal('1'), 'DirectedBy': {'Rich Moore'}, 'No_Overall': Decimal('8'), 'WrittenBy': {'Mike Reiss', 'Matt Groening', 'Al Jean', 'Sam Simon'}, 'No_Inseason': Decimal('8')}\n"
     ]
    }
   ],
   "source": [
    "print(response['Item'])"
   ]
  },
  {
   "cell_type": "markdown",
   "id": "ae606c23",
   "metadata": {},
   "source": [
    "### Get item with resource and transform it it into a Pandas Data Frame"
   ]
  },
  {
   "cell_type": "code",
   "execution_count": 13,
   "id": "712c7b27",
   "metadata": {},
   "outputs": [
    {
     "data": {
      "text/html": [
       "<div>\n",
       "<style scoped>\n",
       "    .dataframe tbody tr th:only-of-type {\n",
       "        vertical-align: middle;\n",
       "    }\n",
       "\n",
       "    .dataframe tbody tr th {\n",
       "        vertical-align: top;\n",
       "    }\n",
       "\n",
       "    .dataframe thead th {\n",
       "        text-align: right;\n",
       "    }\n",
       "</style>\n",
       "<table border=\"1\" class=\"dataframe\">\n",
       "  <thead>\n",
       "    <tr style=\"text-align: right;\">\n",
       "      <th></th>\n",
       "      <th>Title</th>\n",
       "      <th>ProdCode</th>\n",
       "      <th>OriginalAirDate</th>\n",
       "      <th>USViewers(millions)</th>\n",
       "      <th>No_Season</th>\n",
       "      <th>DirectedBy</th>\n",
       "      <th>No_Overall</th>\n",
       "      <th>WrittenBy</th>\n",
       "      <th>No_Inseason</th>\n",
       "    </tr>\n",
       "  </thead>\n",
       "  <tbody>\n",
       "    <tr>\n",
       "      <th>0</th>\n",
       "      <td>The Telltale Head</td>\n",
       "      <td>7G07</td>\n",
       "      <td>1990-02-25</td>\n",
       "      <td>28</td>\n",
       "      <td>1</td>\n",
       "      <td>{Rich Moore}</td>\n",
       "      <td>8</td>\n",
       "      <td>{Mike Reiss, Matt Groening, Al Jean, Sam Simon}</td>\n",
       "      <td>8</td>\n",
       "    </tr>\n",
       "  </tbody>\n",
       "</table>\n",
       "</div>"
      ],
      "text/plain": [
       "               Title ProdCode OriginalAirDate USViewers(millions) No_Season  \\\n",
       "0  The Telltale Head     7G07      1990-02-25                  28         1   \n",
       "\n",
       "     DirectedBy No_Overall                                        WrittenBy  \\\n",
       "0  {Rich Moore}          8  {Mike Reiss, Matt Groening, Al Jean, Sam Simon}   \n",
       "\n",
       "  No_Inseason  \n",
       "0           8  "
      ]
     },
     "execution_count": 13,
     "metadata": {},
     "output_type": "execute_result"
    }
   ],
   "source": [
    "df = pd.DataFrame.from_dict(response['Item'], orient='index')\n",
    "df=df.T\n",
    "df.head()"
   ]
  },
  {
   "cell_type": "markdown",
   "id": "cf51d496",
   "metadata": {},
   "source": [
    "## Query data from index"
   ]
  },
  {
   "cell_type": "code",
   "execution_count": 14,
   "id": "9903bac1",
   "metadata": {},
   "outputs": [],
   "source": [
    "table = dynamodbRes.Table(TABLENAME)\n",
    "\n",
    "response = table.query(\n",
    "    IndexName=\"AirDateIndex\",\n",
    "    KeyConditionExpression=Key('OriginalAirDate').eq('1990-02-25'),\n",
    ")"
   ]
  },
  {
   "cell_type": "code",
   "execution_count": 15,
   "id": "2ecd2323",
   "metadata": {},
   "outputs": [
    {
     "name": "stdout",
     "output_type": "stream",
     "text": [
      "[{'Title': 'The Telltale Head', 'ProdCode': '7G07', 'OriginalAirDate': '1990-02-25', 'USViewers(millions)': Decimal('28'), 'DirectedBy': {'Rich Moore'}, 'No_Season': Decimal('1'), 'No_Overall': Decimal('8'), 'WrittenBy': {'Mike Reiss', 'Matt Groening', 'Al Jean', 'Sam Simon'}, 'No_Inseason': Decimal('8')}]\n"
     ]
    }
   ],
   "source": [
    "print(response['Items'])"
   ]
  },
  {
   "cell_type": "markdown",
   "id": "2b202834",
   "metadata": {},
   "source": [
    "## Query data"
   ]
  },
  {
   "cell_type": "markdown",
   "id": "ec2b4903",
   "metadata": {},
   "source": [
    "### Query HASH and SORT keys: equals"
   ]
  },
  {
   "cell_type": "code",
   "execution_count": 16,
   "id": "da2afa91",
   "metadata": {},
   "outputs": [],
   "source": [
    "response = dynamodbClient.query(\n",
    "    TableName=TABLENAME,\n",
    "    KeyConditionExpression='No_Season = :Season AND No_Inseason = :Inseason',\n",
    "    ExpressionAttributeValues={\n",
    "        ':Season': {'N': '1'},\n",
    "        ':Inseason': {'N': '8'}\n",
    "    }\n",
    ")"
   ]
  },
  {
   "cell_type": "code",
   "execution_count": 17,
   "id": "5723af64",
   "metadata": {},
   "outputs": [
    {
     "name": "stdout",
     "output_type": "stream",
     "text": [
      "[{'Title': {'S': 'The Telltale Head'}, 'ProdCode': {'S': '7G07'}, 'OriginalAirDate': {'S': '1990-02-25'}, 'USViewers(millions)': {'N': '28'}, 'No_Season': {'N': '1'}, 'DirectedBy': {'SS': ['Rich Moore']}, 'No_Overall': {'N': '8'}, 'WrittenBy': {'SS': ['Al Jean', 'Matt Groening', 'Mike Reiss', 'Sam Simon']}, 'No_Inseason': {'N': '8'}}]\n"
     ]
    }
   ],
   "source": [
    "print(response['Items'])"
   ]
  },
  {
   "cell_type": "markdown",
   "id": "876853c3",
   "metadata": {},
   "source": [
    "### Query HASH key: equals"
   ]
  },
  {
   "cell_type": "code",
   "execution_count": 18,
   "id": "618f4673",
   "metadata": {},
   "outputs": [],
   "source": [
    "response = dynamodbClient.query(\n",
    "    TableName=TABLENAME,\n",
    "    KeyConditionExpression='No_Season = :Season',\n",
    "    ExpressionAttributeValues={\n",
    "        ':Season': {'N': '1'}\n",
    "    }\n",
    ")"
   ]
  },
  {
   "cell_type": "code",
   "execution_count": 19,
   "id": "281ade41",
   "metadata": {},
   "outputs": [
    {
     "name": "stdout",
     "output_type": "stream",
     "text": [
      "[{'Title': {'S': 'Simpsons Roasting on an Open Fire'}, 'ProdCode': {'S': '7G08'}, 'OriginalAirDate': {'S': '1989-12-17'}, 'USViewers(millions)': {'N': '26.7'}, 'No_Season': {'N': '1'}, 'DirectedBy': {'SS': ['David Silverman']}, 'No_Overall': {'N': '1'}, 'WrittenBy': {'SS': ['Mimi Pond']}, 'No_Inseason': {'N': '1'}}, {'Title': {'S': 'Bart the Genius'}, 'ProdCode': {'S': '7G02'}, 'OriginalAirDate': {'S': '1990-01-14'}, 'USViewers(millions)': {'N': '24.5'}, 'No_Season': {'N': '1'}, 'DirectedBy': {'SS': ['David Silverman']}, 'No_Overall': {'N': '2'}, 'WrittenBy': {'SS': ['Jon Vitti']}, 'No_Inseason': {'N': '2'}}, {'Title': {'S': \"Homer's Odyssey\"}, 'ProdCode': {'S': '7G03'}, 'OriginalAirDate': {'S': '1990-01-21'}, 'USViewers(millions)': {'N': '27.5'}, 'No_Season': {'N': '1'}, 'DirectedBy': {'SS': ['Wes Archer']}, 'No_Overall': {'N': '3'}, 'WrittenBy': {'SS': ['Jay Kogen', 'Wallace Wolodarsky']}, 'No_Inseason': {'N': '3'}}, {'Title': {'S': \"There's No Disgrace Like Home\"}, 'ProdCode': {'S': '7G04'}, 'OriginalAirDate': {'S': '1990-01-28'}, 'USViewers(millions)': {'N': '20.2'}, 'No_Season': {'N': '1'}, 'DirectedBy': {'SS': ['Gregg Vanzo', 'Kent Butterworth']}, 'No_Overall': {'N': '4'}, 'WrittenBy': {'SS': ['Al Jean', 'Mike Reiss']}, 'No_Inseason': {'N': '4'}}, {'Title': {'S': 'Bart the General'}, 'ProdCode': {'S': '7G05'}, 'OriginalAirDate': {'S': '1990-02-04'}, 'USViewers(millions)': {'N': '27.1'}, 'No_Season': {'N': '1'}, 'DirectedBy': {'SS': ['David Silverman']}, 'No_Overall': {'N': '5'}, 'WrittenBy': {'SS': ['John Swartzwelder']}, 'No_Inseason': {'N': '5'}}, {'Title': {'S': 'Moaning Lisa'}, 'ProdCode': {'S': '7G06'}, 'OriginalAirDate': {'S': '1990-02-11'}, 'USViewers(millions)': {'N': '27.4'}, 'No_Season': {'N': '1'}, 'DirectedBy': {'SS': ['Wes Archer']}, 'No_Overall': {'N': '6'}, 'WrittenBy': {'SS': ['Al Jean', 'Mike Reiss']}, 'No_Inseason': {'N': '6'}}, {'Title': {'S': 'The Call of the Simpsons'}, 'ProdCode': {'S': '7G09'}, 'OriginalAirDate': {'S': '1990-02-18'}, 'USViewers(millions)': {'N': '27.6'}, 'No_Season': {'N': '1'}, 'DirectedBy': {'SS': ['Wes Archer']}, 'No_Overall': {'N': '7'}, 'WrittenBy': {'SS': ['John Swartzwelder']}, 'No_Inseason': {'N': '7'}}, {'Title': {'S': 'The Telltale Head'}, 'ProdCode': {'S': '7G07'}, 'OriginalAirDate': {'S': '1990-02-25'}, 'USViewers(millions)': {'N': '28'}, 'No_Season': {'N': '1'}, 'DirectedBy': {'SS': ['Rich Moore']}, 'No_Overall': {'N': '8'}, 'WrittenBy': {'SS': ['Al Jean', 'Matt Groening', 'Mike Reiss', 'Sam Simon']}, 'No_Inseason': {'N': '8'}}, {'Title': {'S': 'Life on the Fast Lane'}, 'ProdCode': {'S': '7G11'}, 'OriginalAirDate': {'S': '1990-03-18'}, 'USViewers(millions)': {'N': '33.5'}, 'No_Season': {'N': '1'}, 'DirectedBy': {'SS': ['David Silverman']}, 'No_Overall': {'N': '9'}, 'WrittenBy': {'SS': ['John Swartzwelder']}, 'No_Inseason': {'N': '9'}}, {'Title': {'S': \"Homer's Night Out\"}, 'ProdCode': {'S': '7G10'}, 'OriginalAirDate': {'S': '1990-03-25'}, 'USViewers(millions)': {'N': '30.3'}, 'No_Season': {'N': '1'}, 'DirectedBy': {'SS': ['Rich Moore']}, 'No_Overall': {'N': '10'}, 'WrittenBy': {'SS': ['Jon Vitti']}, 'No_Inseason': {'N': '10'}}, {'Title': {'S': 'The Crepes of Wrath'}, 'ProdCode': {'S': '7G13'}, 'OriginalAirDate': {'S': '1990-04-15'}, 'USViewers(millions)': {'N': '31.2'}, 'No_Season': {'N': '1'}, 'DirectedBy': {'SS': ['Milton Gray', 'Wes Archer']}, 'No_Overall': {'N': '11'}, 'WrittenBy': {'SS': ['George Meyer', 'John Swartzwelder', 'Jon Vitti', 'Sam Simon']}, 'No_Inseason': {'N': '11'}}, {'Title': {'S': 'Krusty Gets Busted'}, 'ProdCode': {'S': '7G12'}, 'OriginalAirDate': {'S': '1990-04-29'}, 'USViewers(millions)': {'N': '30.4'}, 'No_Season': {'N': '1'}, 'DirectedBy': {'SS': ['Brad Bird']}, 'No_Overall': {'N': '12'}, 'WrittenBy': {'SS': ['Jay Kogen', 'Wallace Wolodarsky']}, 'No_Inseason': {'N': '12'}}, {'Title': {'S': 'Some Enchanted Evening'}, 'ProdCode': {'S': '7G01'}, 'OriginalAirDate': {'S': '1990-05-13'}, 'USViewers(millions)': {'N': '27.1'}, 'No_Season': {'N': '1'}, 'DirectedBy': {'SS': ['David Silverman', 'Kent Butterworth']}, 'No_Overall': {'N': '13'}, 'WrittenBy': {'SS': ['Matt Groening', 'Sam Simon']}, 'No_Inseason': {'N': '13'}}]\n"
     ]
    }
   ],
   "source": [
    "print(response['Items'])"
   ]
  },
  {
   "cell_type": "markdown",
   "id": "b424e4fe",
   "metadata": {},
   "source": [
    "### Query HASH and SORT keys: between"
   ]
  },
  {
   "cell_type": "code",
   "execution_count": 20,
   "id": "c0c83478",
   "metadata": {},
   "outputs": [],
   "source": [
    "response = dynamodbClient.query(\n",
    "    TableName=TABLENAME,\n",
    "    KeyConditionExpression='No_Season = :Season AND No_Inseason BETWEEN :InseasonStart AND :InseasonEnd',\n",
    "    ExpressionAttributeValues={\n",
    "        ':Season': {'N': '1'},\n",
    "        ':InseasonStart': {'N': '1'},\n",
    "        ':InseasonEnd': {'N': '8'}\n",
    "    }\n",
    ")"
   ]
  },
  {
   "cell_type": "code",
   "execution_count": 21,
   "id": "926f72cd",
   "metadata": {},
   "outputs": [
    {
     "name": "stdout",
     "output_type": "stream",
     "text": [
      "[{'Title': {'S': 'Simpsons Roasting on an Open Fire'}, 'ProdCode': {'S': '7G08'}, 'OriginalAirDate': {'S': '1989-12-17'}, 'USViewers(millions)': {'N': '26.7'}, 'No_Season': {'N': '1'}, 'DirectedBy': {'SS': ['David Silverman']}, 'No_Overall': {'N': '1'}, 'WrittenBy': {'SS': ['Mimi Pond']}, 'No_Inseason': {'N': '1'}}, {'Title': {'S': 'Bart the Genius'}, 'ProdCode': {'S': '7G02'}, 'OriginalAirDate': {'S': '1990-01-14'}, 'USViewers(millions)': {'N': '24.5'}, 'No_Season': {'N': '1'}, 'DirectedBy': {'SS': ['David Silverman']}, 'No_Overall': {'N': '2'}, 'WrittenBy': {'SS': ['Jon Vitti']}, 'No_Inseason': {'N': '2'}}, {'Title': {'S': \"Homer's Odyssey\"}, 'ProdCode': {'S': '7G03'}, 'OriginalAirDate': {'S': '1990-01-21'}, 'USViewers(millions)': {'N': '27.5'}, 'No_Season': {'N': '1'}, 'DirectedBy': {'SS': ['Wes Archer']}, 'No_Overall': {'N': '3'}, 'WrittenBy': {'SS': ['Jay Kogen', 'Wallace Wolodarsky']}, 'No_Inseason': {'N': '3'}}, {'Title': {'S': \"There's No Disgrace Like Home\"}, 'ProdCode': {'S': '7G04'}, 'OriginalAirDate': {'S': '1990-01-28'}, 'USViewers(millions)': {'N': '20.2'}, 'No_Season': {'N': '1'}, 'DirectedBy': {'SS': ['Gregg Vanzo', 'Kent Butterworth']}, 'No_Overall': {'N': '4'}, 'WrittenBy': {'SS': ['Al Jean', 'Mike Reiss']}, 'No_Inseason': {'N': '4'}}, {'Title': {'S': 'Bart the General'}, 'ProdCode': {'S': '7G05'}, 'OriginalAirDate': {'S': '1990-02-04'}, 'USViewers(millions)': {'N': '27.1'}, 'No_Season': {'N': '1'}, 'DirectedBy': {'SS': ['David Silverman']}, 'No_Overall': {'N': '5'}, 'WrittenBy': {'SS': ['John Swartzwelder']}, 'No_Inseason': {'N': '5'}}, {'Title': {'S': 'Moaning Lisa'}, 'ProdCode': {'S': '7G06'}, 'OriginalAirDate': {'S': '1990-02-11'}, 'USViewers(millions)': {'N': '27.4'}, 'No_Season': {'N': '1'}, 'DirectedBy': {'SS': ['Wes Archer']}, 'No_Overall': {'N': '6'}, 'WrittenBy': {'SS': ['Al Jean', 'Mike Reiss']}, 'No_Inseason': {'N': '6'}}, {'Title': {'S': 'The Call of the Simpsons'}, 'ProdCode': {'S': '7G09'}, 'OriginalAirDate': {'S': '1990-02-18'}, 'USViewers(millions)': {'N': '27.6'}, 'No_Season': {'N': '1'}, 'DirectedBy': {'SS': ['Wes Archer']}, 'No_Overall': {'N': '7'}, 'WrittenBy': {'SS': ['John Swartzwelder']}, 'No_Inseason': {'N': '7'}}, {'Title': {'S': 'The Telltale Head'}, 'ProdCode': {'S': '7G07'}, 'OriginalAirDate': {'S': '1990-02-25'}, 'USViewers(millions)': {'N': '28'}, 'No_Season': {'N': '1'}, 'DirectedBy': {'SS': ['Rich Moore']}, 'No_Overall': {'N': '8'}, 'WrittenBy': {'SS': ['Al Jean', 'Matt Groening', 'Mike Reiss', 'Sam Simon']}, 'No_Inseason': {'N': '8'}}]\n"
     ]
    }
   ],
   "source": [
    "print(response['Items'])"
   ]
  },
  {
   "cell_type": "markdown",
   "id": "9937e168",
   "metadata": {},
   "source": [
    "### Query HASH and SORT keys: less than"
   ]
  },
  {
   "cell_type": "code",
   "execution_count": 22,
   "id": "3c676f92",
   "metadata": {},
   "outputs": [],
   "source": [
    "response = dynamodbClient.query(\n",
    "    TableName=TABLENAME,\n",
    "    KeyConditionExpression='No_Season = :Season AND No_Inseason < :Inseason',\n",
    "    ExpressionAttributeValues={\n",
    "        ':Season': {'N': '1'},\n",
    "        ':Inseason': {'N': '10'}\n",
    "    }\n",
    ")"
   ]
  },
  {
   "cell_type": "code",
   "execution_count": 23,
   "id": "796694dc",
   "metadata": {},
   "outputs": [
    {
     "name": "stdout",
     "output_type": "stream",
     "text": [
      "[{'Title': {'S': 'Simpsons Roasting on an Open Fire'}, 'ProdCode': {'S': '7G08'}, 'OriginalAirDate': {'S': '1989-12-17'}, 'USViewers(millions)': {'N': '26.7'}, 'No_Season': {'N': '1'}, 'DirectedBy': {'SS': ['David Silverman']}, 'No_Overall': {'N': '1'}, 'WrittenBy': {'SS': ['Mimi Pond']}, 'No_Inseason': {'N': '1'}}, {'Title': {'S': 'Bart the Genius'}, 'ProdCode': {'S': '7G02'}, 'OriginalAirDate': {'S': '1990-01-14'}, 'USViewers(millions)': {'N': '24.5'}, 'No_Season': {'N': '1'}, 'DirectedBy': {'SS': ['David Silverman']}, 'No_Overall': {'N': '2'}, 'WrittenBy': {'SS': ['Jon Vitti']}, 'No_Inseason': {'N': '2'}}, {'Title': {'S': \"Homer's Odyssey\"}, 'ProdCode': {'S': '7G03'}, 'OriginalAirDate': {'S': '1990-01-21'}, 'USViewers(millions)': {'N': '27.5'}, 'No_Season': {'N': '1'}, 'DirectedBy': {'SS': ['Wes Archer']}, 'No_Overall': {'N': '3'}, 'WrittenBy': {'SS': ['Jay Kogen', 'Wallace Wolodarsky']}, 'No_Inseason': {'N': '3'}}, {'Title': {'S': \"There's No Disgrace Like Home\"}, 'ProdCode': {'S': '7G04'}, 'OriginalAirDate': {'S': '1990-01-28'}, 'USViewers(millions)': {'N': '20.2'}, 'No_Season': {'N': '1'}, 'DirectedBy': {'SS': ['Gregg Vanzo', 'Kent Butterworth']}, 'No_Overall': {'N': '4'}, 'WrittenBy': {'SS': ['Al Jean', 'Mike Reiss']}, 'No_Inseason': {'N': '4'}}, {'Title': {'S': 'Bart the General'}, 'ProdCode': {'S': '7G05'}, 'OriginalAirDate': {'S': '1990-02-04'}, 'USViewers(millions)': {'N': '27.1'}, 'No_Season': {'N': '1'}, 'DirectedBy': {'SS': ['David Silverman']}, 'No_Overall': {'N': '5'}, 'WrittenBy': {'SS': ['John Swartzwelder']}, 'No_Inseason': {'N': '5'}}, {'Title': {'S': 'Moaning Lisa'}, 'ProdCode': {'S': '7G06'}, 'OriginalAirDate': {'S': '1990-02-11'}, 'USViewers(millions)': {'N': '27.4'}, 'No_Season': {'N': '1'}, 'DirectedBy': {'SS': ['Wes Archer']}, 'No_Overall': {'N': '6'}, 'WrittenBy': {'SS': ['Al Jean', 'Mike Reiss']}, 'No_Inseason': {'N': '6'}}, {'Title': {'S': 'The Call of the Simpsons'}, 'ProdCode': {'S': '7G09'}, 'OriginalAirDate': {'S': '1990-02-18'}, 'USViewers(millions)': {'N': '27.6'}, 'No_Season': {'N': '1'}, 'DirectedBy': {'SS': ['Wes Archer']}, 'No_Overall': {'N': '7'}, 'WrittenBy': {'SS': ['John Swartzwelder']}, 'No_Inseason': {'N': '7'}}, {'Title': {'S': 'The Telltale Head'}, 'ProdCode': {'S': '7G07'}, 'OriginalAirDate': {'S': '1990-02-25'}, 'USViewers(millions)': {'N': '28'}, 'No_Season': {'N': '1'}, 'DirectedBy': {'SS': ['Rich Moore']}, 'No_Overall': {'N': '8'}, 'WrittenBy': {'SS': ['Al Jean', 'Matt Groening', 'Mike Reiss', 'Sam Simon']}, 'No_Inseason': {'N': '8'}}, {'Title': {'S': 'Life on the Fast Lane'}, 'ProdCode': {'S': '7G11'}, 'OriginalAirDate': {'S': '1990-03-18'}, 'USViewers(millions)': {'N': '33.5'}, 'No_Season': {'N': '1'}, 'DirectedBy': {'SS': ['David Silverman']}, 'No_Overall': {'N': '9'}, 'WrittenBy': {'SS': ['John Swartzwelder']}, 'No_Inseason': {'N': '9'}}]\n"
     ]
    }
   ],
   "source": [
    "print(response['Items'])"
   ]
  },
  {
   "cell_type": "markdown",
   "id": "a444ec4f",
   "metadata": {},
   "source": [
    "### Table scan"
   ]
  },
  {
   "cell_type": "code",
   "execution_count": 24,
   "id": "6a1bb533",
   "metadata": {},
   "outputs": [],
   "source": [
    "table = dynamodbRes.Table(TABLENAME)\n",
    "\n",
    "response = table.scan(FilterExpression=Attr('Title').eq('The Princess Guide'))"
   ]
  },
  {
   "cell_type": "code",
   "execution_count": 25,
   "id": "080b1da8",
   "metadata": {},
   "outputs": [
    {
     "name": "stdout",
     "output_type": "stream",
     "text": [
      "[{'Title': 'The Princess Guide', 'ProdCode': 'TABF08', 'OriginalAirDate': '2015-03-01', 'USViewers(millions)': Decimal('3.93'), 'No_Season': Decimal('26'), 'DirectedBy': {'Timothy Bailey'}, 'No_Overall': Decimal('567'), 'WrittenBy': {'Brian Kelley'}, 'No_Inseason': Decimal('15')}]\n"
     ]
    }
   ],
   "source": [
    "print(response['Items'])"
   ]
  }
 ],
 "metadata": {
  "kernelspec": {
   "display_name": "my_env",
   "language": "python",
   "name": "my_env"
  },
  "language_info": {
   "codemirror_mode": {
    "name": "ipython",
    "version": 3
   },
   "file_extension": ".py",
   "mimetype": "text/x-python",
   "name": "python",
   "nbconvert_exporter": "python",
   "pygments_lexer": "ipython3",
   "version": "3.8.0"
  }
 },
 "nbformat": 4,
 "nbformat_minor": 5
}
