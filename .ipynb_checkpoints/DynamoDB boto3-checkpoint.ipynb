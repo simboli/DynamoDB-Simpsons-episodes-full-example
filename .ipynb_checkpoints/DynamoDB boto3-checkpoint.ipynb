{
 "cells": [
  {
   "cell_type": "markdown",
   "id": "fa0d6d1a",
   "metadata": {},
   "source": [
    "# DynamoDB access and query using Python boto3 module"
   ]
  },
  {
   "cell_type": "markdown",
   "id": "bf4c15ba",
   "metadata": {},
   "source": [
    "## Bibliography"
   ]
  },
  {
   "cell_type": "markdown",
   "id": "734ae049",
   "metadata": {},
   "source": [
    "- https://www.fernandomc.com/posts/ten-examples-of-getting-data-from-dynamodb-with-python-and-boto3/\n",
    "- https://dynobase.dev/dynamodb-python-with-boto3/"
   ]
  },
  {
   "cell_type": "markdown",
   "id": "f1d796ab",
   "metadata": {},
   "source": [
    "## Import modules"
   ]
  },
  {
   "cell_type": "code",
   "execution_count": 1,
   "id": "afc25c5a",
   "metadata": {},
   "outputs": [],
   "source": [
    "import boto3\n",
    "import yaml\n",
    "import json\n",
    "import pandas as pd"
   ]
  },
  {
   "cell_type": "markdown",
   "id": "0275c2da",
   "metadata": {},
   "source": [
    "## Get credentials"
   ]
  },
  {
   "cell_type": "code",
   "execution_count": 2,
   "id": "a34ce701",
   "metadata": {},
   "outputs": [],
   "source": [
    "# Load credentials from YAML file\n",
    "with open(\"credentials.yml\", \"r\") as keyholder:\n",
    "    try:\n",
    "        credentials=yaml.safe_load(keyholder)\n",
    "    except yaml.YAMLError as exc:\n",
    "        print(exc)"
   ]
  },
  {
   "cell_type": "code",
   "execution_count": 3,
   "id": "5ababba1",
   "metadata": {},
   "outputs": [],
   "source": [
    "AWS_SERVER_PUBLIC_KEY=credentials['dynamodb']['AWS_SERVER_PUBLIC_KEY']\n",
    "AWS_SERVER_SECRET_KEY=credentials['dynamodb']['AWS_SERVER_SECRET_KEY']\n",
    "REGION_NAME=credentials['dynamodb']['REGION_NAME']"
   ]
  },
  {
   "cell_type": "markdown",
   "id": "2181ee4d",
   "metadata": {},
   "source": [
    "## Create boto3 client for DynamoDb"
   ]
  },
  {
   "cell_type": "code",
   "execution_count": 4,
   "id": "39868a4f",
   "metadata": {},
   "outputs": [],
   "source": [
    "dynamodb = boto3.client(\n",
    "    \"dynamodb\",\n",
    "    region_name=REGION_NAME,\n",
    "    aws_access_key_id=AWS_SERVER_PUBLIC_KEY,\n",
    "    aws_secret_access_key=AWS_SERVER_SECRET_KEY,\n",
    ")"
   ]
  },
  {
   "cell_type": "code",
   "execution_count": 5,
   "id": "99658dec",
   "metadata": {},
   "outputs": [
    {
     "data": {
      "text/plain": [
       "<botocore.client.DynamoDB at 0x7fb280ca3220>"
      ]
     },
     "execution_count": 5,
     "metadata": {},
     "output_type": "execute_result"
    }
   ],
   "source": [
    "dynamodb"
   ]
  },
  {
   "cell_type": "markdown",
   "id": "6acc4387",
   "metadata": {},
   "source": [
    "## Create boto3 resource for DynamoDb"
   ]
  },
  {
   "cell_type": "code",
   "execution_count": 6,
   "id": "bf2f1048",
   "metadata": {},
   "outputs": [],
   "source": [
    "dynamodb_res = boto3.resource(\n",
    "    \"dynamodb\",\n",
    "    region_name=REGION_NAME,\n",
    "    aws_access_key_id=AWS_SERVER_PUBLIC_KEY,\n",
    "    aws_secret_access_key=AWS_SERVER_SECRET_KEY,\n",
    ")"
   ]
  },
  {
   "cell_type": "code",
   "execution_count": 7,
   "id": "f64d41e5",
   "metadata": {},
   "outputs": [
    {
     "data": {
      "text/plain": [
       "dynamodb.ServiceResource()"
      ]
     },
     "execution_count": 7,
     "metadata": {},
     "output_type": "execute_result"
    }
   ],
   "source": [
    "dynamodb_res"
   ]
  },
  {
   "cell_type": "markdown",
   "id": "68bc5262",
   "metadata": {},
   "source": [
    "## Create table"
   ]
  },
  {
   "cell_type": "code",
   "execution_count": 8,
   "id": "8eb23da5",
   "metadata": {},
   "outputs": [
    {
     "name": "stdout",
     "output_type": "stream",
     "text": [
      "{'TableDescription': {'AttributeDefinitions': [{'AttributeName': 'artist', 'AttributeType': 'S'}, {'AttributeName': 'song', 'AttributeType': 'S'}], 'TableName': 'basicSongsTable', 'KeySchema': [{'AttributeName': 'artist', 'KeyType': 'HASH'}, {'AttributeName': 'song', 'KeyType': 'RANGE'}], 'TableStatus': 'CREATING', 'CreationDateTime': datetime.datetime(2022, 12, 4, 18, 6, 14, 289000, tzinfo=tzlocal()), 'ProvisionedThroughput': {'NumberOfDecreasesToday': 0, 'ReadCapacityUnits': 1, 'WriteCapacityUnits': 1}, 'TableSizeBytes': 0, 'ItemCount': 0, 'TableArn': 'arn:aws:dynamodb:us-east-1:526274010548:table/basicSongsTable', 'TableId': '5ceadb8d-2790-469d-b51d-cab763e4cdf9'}, 'ResponseMetadata': {'RequestId': 'N5U4TGG3AFQBEO9QC73UCN854FVV4KQNSO5AEMVJF66Q9ASUAAJG', 'HTTPStatusCode': 200, 'HTTPHeaders': {'server': 'Server', 'date': 'Sun, 04 Dec 2022 17:06:14 GMT', 'content-type': 'application/x-amz-json-1.0', 'content-length': '586', 'connection': 'keep-alive', 'x-amzn-requestid': 'N5U4TGG3AFQBEO9QC73UCN854FVV4KQNSO5AEMVJF66Q9ASUAAJG', 'x-amz-crc32': '4162067913'}, 'RetryAttempts': 0}}\n"
     ]
    }
   ],
   "source": [
    "response = dynamodb.create_table(\n",
    "  TableName=\"basicSongsTable\",\n",
    "  AttributeDefinitions=[\n",
    "    {\n",
    "      \"AttributeName\": \"artist\",\n",
    "      \"AttributeType\": \"S\"\n",
    "    },\n",
    "    {\n",
    "      \"AttributeName\": \"song\",\n",
    "      \"AttributeType\": \"S\"\n",
    "    }\n",
    "  ],\n",
    "  KeySchema=[\n",
    "    {\n",
    "      \"AttributeName\": \"artist\",\n",
    "      \"KeyType\": \"HASH\"\n",
    "    },\n",
    "    {\n",
    "      \"AttributeName\": \"song\",\n",
    "      \"KeyType\": \"RANGE\"\n",
    "    }\n",
    "  ],\n",
    "  ProvisionedThroughput={\n",
    "    \"ReadCapacityUnits\": 1,\n",
    "    \"WriteCapacityUnits\": 1\n",
    "  }\n",
    ")\n",
    "\n",
    "print(response)"
   ]
  },
  {
   "cell_type": "markdown",
   "id": "89f4cd7d",
   "metadata": {},
   "source": [
    "## Load data from JSON file"
   ]
  },
  {
   "cell_type": "code",
   "execution_count": 9,
   "id": "f5c29ea2",
   "metadata": {},
   "outputs": [],
   "source": [
    "def upload():\n",
    "    with open('data.json', 'r') as datafile:\n",
    "        records = json.load(datafile)\n",
    "    for song in records:\n",
    "        print(song)\n",
    "        item = {\n",
    "                'artist':{'S':song['artist']},\n",
    "                'song':{'S':song['song']},\n",
    "                'id':{'S': song['id']},\n",
    "                'priceUsdCents':{'S': str(song['priceUsdCents'])},\n",
    "                'publisher':{'S': song['publisher']}\n",
    "        }\n",
    "        print(item)\n",
    "        response = dynamodb.put_item(\n",
    "            TableName='basicSongsTable', \n",
    "            Item=item\n",
    "        )\n",
    "        print(\"UPLOADING ITEM\")\n",
    "        print(response)"
   ]
  },
  {
   "cell_type": "code",
   "execution_count": 10,
   "id": "27f85f98",
   "metadata": {},
   "outputs": [
    {
     "name": "stdout",
     "output_type": "stream",
     "text": [
      "{'artist': 'Romero Allen', 'song': 'Atomic Dim', 'id': 'b4b0da3f-36e3-4569-b196-3ad982f72bbd', 'priceUsdCents': 392, 'publisher': 'QUAREX'}\n",
      "{'artist': {'S': 'Romero Allen'}, 'song': {'S': 'Atomic Dim'}, 'id': {'S': 'b4b0da3f-36e3-4569-b196-3ad982f72bbd'}, 'priceUsdCents': {'S': '392'}, 'publisher': {'S': 'QUAREX'}}\n",
      "UPLOADING ITEM\n",
      "{'ResponseMetadata': {'RequestId': 'K114A29R9QRQQ4CN9GHV5TR637VV4KQNSO5AEMVJF66Q9ASUAAJG', 'HTTPStatusCode': 200, 'HTTPHeaders': {'server': 'Server', 'date': 'Sun, 04 Dec 2022 17:06:41 GMT', 'content-type': 'application/x-amz-json-1.0', 'content-length': '2', 'connection': 'keep-alive', 'x-amzn-requestid': 'K114A29R9QRQQ4CN9GHV5TR637VV4KQNSO5AEMVJF66Q9ASUAAJG', 'x-amz-crc32': '2745614147'}, 'RetryAttempts': 0}}\n",
      "{'artist': 'Hilda Barnes', 'song': 'Almond Dutch', 'id': 'eeb58c73-603f-4d6b-9e3b-cf587488f488', 'priceUsdCents': 161, 'publisher': 'LETPRO'}\n",
      "{'artist': {'S': 'Hilda Barnes'}, 'song': {'S': 'Almond Dutch'}, 'id': {'S': 'eeb58c73-603f-4d6b-9e3b-cf587488f488'}, 'priceUsdCents': {'S': '161'}, 'publisher': {'S': 'LETPRO'}}\n",
      "UPLOADING ITEM\n",
      "{'ResponseMetadata': {'RequestId': 'DS0P50U9KKJSS46R4OE7TAQ8HVVV4KQNSO5AEMVJF66Q9ASUAAJG', 'HTTPStatusCode': 200, 'HTTPHeaders': {'server': 'Server', 'date': 'Sun, 04 Dec 2022 17:06:41 GMT', 'content-type': 'application/x-amz-json-1.0', 'content-length': '2', 'connection': 'keep-alive', 'x-amzn-requestid': 'DS0P50U9KKJSS46R4OE7TAQ8HVVV4KQNSO5AEMVJF66Q9ASUAAJG', 'x-amz-crc32': '2745614147'}, 'RetryAttempts': 0}}\n",
      "{'artist': 'Hall Ramos', 'song': 'Carmine Drab', 'id': '951637bd-59ef-4448-93f5-e179bfbd20a0', 'priceUsdCents': 370, 'publisher': 'BRAINQUIL'}\n",
      "{'artist': {'S': 'Hall Ramos'}, 'song': {'S': 'Carmine Drab'}, 'id': {'S': '951637bd-59ef-4448-93f5-e179bfbd20a0'}, 'priceUsdCents': {'S': '370'}, 'publisher': {'S': 'BRAINQUIL'}}\n",
      "UPLOADING ITEM\n",
      "{'ResponseMetadata': {'RequestId': '908KUNMEEN7P3COKTKPGC92PSNVV4KQNSO5AEMVJF66Q9ASUAAJG', 'HTTPStatusCode': 200, 'HTTPHeaders': {'server': 'Server', 'date': 'Sun, 04 Dec 2022 17:06:41 GMT', 'content-type': 'application/x-amz-json-1.0', 'content-length': '2', 'connection': 'keep-alive', 'x-amzn-requestid': '908KUNMEEN7P3COKTKPGC92PSNVV4KQNSO5AEMVJF66Q9ASUAAJG', 'x-amz-crc32': '2745614147'}, 'RetryAttempts': 0}}\n",
      "{'artist': 'Chang Vance', 'song': 'Aureolin Dodger', 'id': '29f5dea2-2bd1-4d13-bf33-7aadc4f14ef2', 'priceUsdCents': 324, 'publisher': 'DIGIAL'}\n",
      "{'artist': {'S': 'Chang Vance'}, 'song': {'S': 'Aureolin Dodger'}, 'id': {'S': '29f5dea2-2bd1-4d13-bf33-7aadc4f14ef2'}, 'priceUsdCents': {'S': '324'}, 'publisher': {'S': 'DIGIAL'}}\n",
      "UPLOADING ITEM\n",
      "{'ResponseMetadata': {'RequestId': 'RGCO7NUAQB2GECH5SVCJS7O4T7VV4KQNSO5AEMVJF66Q9ASUAAJG', 'HTTPStatusCode': 200, 'HTTPHeaders': {'server': 'Server', 'date': 'Sun, 04 Dec 2022 17:06:42 GMT', 'content-type': 'application/x-amz-json-1.0', 'content-length': '2', 'connection': 'keep-alive', 'x-amzn-requestid': 'RGCO7NUAQB2GECH5SVCJS7O4T7VV4KQNSO5AEMVJF66Q9ASUAAJG', 'x-amz-crc32': '2745614147'}, 'RetryAttempts': 0}}\n",
      "{'artist': 'May Tanner', 'song': 'Cadmium Cultured', 'id': '483b1787-a9fd-4ec8-bf16-5ec122bb559a', 'priceUsdCents': 146, 'publisher': 'CHORIZON'}\n",
      "{'artist': {'S': 'May Tanner'}, 'song': {'S': 'Cadmium Cultured'}, 'id': {'S': '483b1787-a9fd-4ec8-bf16-5ec122bb559a'}, 'priceUsdCents': {'S': '146'}, 'publisher': {'S': 'CHORIZON'}}\n",
      "UPLOADING ITEM\n",
      "{'ResponseMetadata': {'RequestId': '21R4KK3COFVKH5NTIQLD64QSF3VV4KQNSO5AEMVJF66Q9ASUAAJG', 'HTTPStatusCode': 200, 'HTTPHeaders': {'server': 'Server', 'date': 'Sun, 04 Dec 2022 17:06:42 GMT', 'content-type': 'application/x-amz-json-1.0', 'content-length': '2', 'connection': 'keep-alive', 'x-amzn-requestid': '21R4KK3COFVKH5NTIQLD64QSF3VV4KQNSO5AEMVJF66Q9ASUAAJG', 'x-amz-crc32': '2745614147'}, 'RetryAttempts': 0}}\n",
      "{'artist': 'Tillman Watkins', 'song': 'Cameo Dark', 'id': '18f42c1e-8a91-47f9-829e-836ee1a49a17', 'priceUsdCents': 173, 'publisher': 'OTHERWAY'}\n",
      "{'artist': {'S': 'Tillman Watkins'}, 'song': {'S': 'Cameo Dark'}, 'id': {'S': '18f42c1e-8a91-47f9-829e-836ee1a49a17'}, 'priceUsdCents': {'S': '173'}, 'publisher': {'S': 'OTHERWAY'}}\n",
      "UPLOADING ITEM\n",
      "{'ResponseMetadata': {'RequestId': 'CBJNBDGNJ3S7LJDEIME2ALQRSJVV4KQNSO5AEMVJF66Q9ASUAAJG', 'HTTPStatusCode': 200, 'HTTPHeaders': {'server': 'Server', 'date': 'Sun, 04 Dec 2022 17:06:42 GMT', 'content-type': 'application/x-amz-json-1.0', 'content-length': '2', 'connection': 'keep-alive', 'x-amzn-requestid': 'CBJNBDGNJ3S7LJDEIME2ALQRSJVV4KQNSO5AEMVJF66Q9ASUAAJG', 'x-amz-crc32': '2745614147'}, 'RetryAttempts': 0}}\n",
      "{'artist': 'Naomi Petersen', 'song': 'Candy Earth', 'id': '0ed05345-3dfa-4ea4-a59a-6c015153c9d5', 'priceUsdCents': 249, 'publisher': 'SONIQUE'}\n",
      "{'artist': {'S': 'Naomi Petersen'}, 'song': {'S': 'Candy Earth'}, 'id': {'S': '0ed05345-3dfa-4ea4-a59a-6c015153c9d5'}, 'priceUsdCents': {'S': '249'}, 'publisher': {'S': 'SONIQUE'}}\n",
      "UPLOADING ITEM\n",
      "{'ResponseMetadata': {'RequestId': '8VTC643M9HQIR9LUQGD44EMGCFVV4KQNSO5AEMVJF66Q9ASUAAJG', 'HTTPStatusCode': 200, 'HTTPHeaders': {'server': 'Server', 'date': 'Sun, 04 Dec 2022 17:06:42 GMT', 'content-type': 'application/x-amz-json-1.0', 'content-length': '2', 'connection': 'keep-alive', 'x-amzn-requestid': '8VTC643M9HQIR9LUQGD44EMGCFVV4KQNSO5AEMVJF66Q9ASUAAJG', 'x-amz-crc32': '2745614147'}, 'RetryAttempts': 0}}\n",
      "{'artist': 'Kristin Olson', 'song': 'Banana Eerie', 'id': 'f4ea8c5a-1a5b-4d4b-94cf-74da68c543e6', 'priceUsdCents': 246, 'publisher': 'AMTAP'}\n",
      "{'artist': {'S': 'Kristin Olson'}, 'song': {'S': 'Banana Eerie'}, 'id': {'S': 'f4ea8c5a-1a5b-4d4b-94cf-74da68c543e6'}, 'priceUsdCents': {'S': '246'}, 'publisher': {'S': 'AMTAP'}}\n",
      "UPLOADING ITEM\n",
      "{'ResponseMetadata': {'RequestId': 'P2U7EDTD02BE2AQ3D9H6TCOG1NVV4KQNSO5AEMVJF66Q9ASUAAJG', 'HTTPStatusCode': 200, 'HTTPHeaders': {'server': 'Server', 'date': 'Sun, 04 Dec 2022 17:06:42 GMT', 'content-type': 'application/x-amz-json-1.0', 'content-length': '2', 'connection': 'keep-alive', 'x-amzn-requestid': 'P2U7EDTD02BE2AQ3D9H6TCOG1NVV4KQNSO5AEMVJF66Q9ASUAAJG', 'x-amz-crc32': '2745614147'}, 'RetryAttempts': 0}}\n",
      "{'artist': 'Marta Frost', 'song': 'Apple Chinese', 'id': '5cd6c545-655c-491d-bc7c-1aaa8569b26c', 'priceUsdCents': 181, 'publisher': 'ZAGGLES'}\n",
      "{'artist': {'S': 'Marta Frost'}, 'song': {'S': 'Apple Chinese'}, 'id': {'S': '5cd6c545-655c-491d-bc7c-1aaa8569b26c'}, 'priceUsdCents': {'S': '181'}, 'publisher': {'S': 'ZAGGLES'}}\n",
      "UPLOADING ITEM\n",
      "{'ResponseMetadata': {'RequestId': '7CG8LLGBV8TUEK16S17OTBPDEJVV4KQNSO5AEMVJF66Q9ASUAAJG', 'HTTPStatusCode': 200, 'HTTPHeaders': {'server': 'Server', 'date': 'Sun, 04 Dec 2022 17:06:43 GMT', 'content-type': 'application/x-amz-json-1.0', 'content-length': '2', 'connection': 'keep-alive', 'x-amzn-requestid': '7CG8LLGBV8TUEK16S17OTBPDEJVV4KQNSO5AEMVJF66Q9ASUAAJG', 'x-amz-crc32': '2745614147'}, 'RetryAttempts': 0}}\n",
      "{'artist': 'Etta Anderson', 'song': 'Antique English', 'id': 'ba865a03-8666-4074-8e47-15bcc707fa6e', 'priceUsdCents': 143, 'publisher': 'DATACATOR'}\n",
      "{'artist': {'S': 'Etta Anderson'}, 'song': {'S': 'Antique English'}, 'id': {'S': 'ba865a03-8666-4074-8e47-15bcc707fa6e'}, 'priceUsdCents': {'S': '143'}, 'publisher': {'S': 'DATACATOR'}}\n",
      "UPLOADING ITEM\n",
      "{'ResponseMetadata': {'RequestId': 'PFPTIMPLC56TR1I5L64KU8RPSFVV4KQNSO5AEMVJF66Q9ASUAAJG', 'HTTPStatusCode': 200, 'HTTPHeaders': {'server': 'Server', 'date': 'Sun, 04 Dec 2022 17:06:43 GMT', 'content-type': 'application/x-amz-json-1.0', 'content-length': '2', 'connection': 'keep-alive', 'x-amzn-requestid': 'PFPTIMPLC56TR1I5L64KU8RPSFVV4KQNSO5AEMVJF66Q9ASUAAJG', 'x-amz-crc32': '2745614147'}, 'RetryAttempts': 0}}\n",
      "{'artist': 'Charlotte Cooley', 'song': 'Amaranth Dim', 'id': 'fb4aad81-24c0-4d79-ac34-264923e99464', 'priceUsdCents': 121, 'publisher': 'KEENGEN'}\n",
      "{'artist': {'S': 'Charlotte Cooley'}, 'song': {'S': 'Amaranth Dim'}, 'id': {'S': 'fb4aad81-24c0-4d79-ac34-264923e99464'}, 'priceUsdCents': {'S': '121'}, 'publisher': {'S': 'KEENGEN'}}\n",
      "UPLOADING ITEM\n",
      "{'ResponseMetadata': {'RequestId': 'JU0RFCHEDVCPCTQ7DSBEQ9LC87VV4KQNSO5AEMVJF66Q9ASUAAJG', 'HTTPStatusCode': 200, 'HTTPHeaders': {'server': 'Server', 'date': 'Sun, 04 Dec 2022 17:06:43 GMT', 'content-type': 'application/x-amz-json-1.0', 'content-length': '2', 'connection': 'keep-alive', 'x-amzn-requestid': 'JU0RFCHEDVCPCTQ7DSBEQ9LC87VV4KQNSO5AEMVJF66Q9ASUAAJG', 'x-amz-crc32': '2745614147'}, 'RetryAttempts': 0}}\n",
      "{'artist': 'Elise Pugh', 'song': 'Bright Cerulean', 'id': '5ac17e68-e6c3-43f6-a305-5c63ac39307f', 'priceUsdCents': 389, 'publisher': 'CUJO'}\n",
      "{'artist': {'S': 'Elise Pugh'}, 'song': {'S': 'Bright Cerulean'}, 'id': {'S': '5ac17e68-e6c3-43f6-a305-5c63ac39307f'}, 'priceUsdCents': {'S': '389'}, 'publisher': {'S': 'CUJO'}}\n"
     ]
    },
    {
     "name": "stdout",
     "output_type": "stream",
     "text": [
      "UPLOADING ITEM\n",
      "{'ResponseMetadata': {'RequestId': 'B694DI7B8A25PHB76RFRJUJ12NVV4KQNSO5AEMVJF66Q9ASUAAJG', 'HTTPStatusCode': 200, 'HTTPHeaders': {'server': 'Server', 'date': 'Sun, 04 Dec 2022 17:06:43 GMT', 'content-type': 'application/x-amz-json-1.0', 'content-length': '2', 'connection': 'keep-alive', 'x-amzn-requestid': 'B694DI7B8A25PHB76RFRJUJ12NVV4KQNSO5AEMVJF66Q9ASUAAJG', 'x-amz-crc32': '2745614147'}, 'RetryAttempts': 0}}\n",
      "{'artist': 'Tamika Austin', 'song': 'Camel Flickr', 'id': 'a89ac751-89ba-41e9-9e86-60605b3139f4', 'priceUsdCents': 392, 'publisher': 'TECHMANIA'}\n",
      "{'artist': {'S': 'Tamika Austin'}, 'song': {'S': 'Camel Flickr'}, 'id': {'S': 'a89ac751-89ba-41e9-9e86-60605b3139f4'}, 'priceUsdCents': {'S': '392'}, 'publisher': {'S': 'TECHMANIA'}}\n",
      "UPLOADING ITEM\n",
      "{'ResponseMetadata': {'RequestId': 'RCKS1DSTM0ORH81BSIC9D7MPU3VV4KQNSO5AEMVJF66Q9ASUAAJG', 'HTTPStatusCode': 200, 'HTTPHeaders': {'server': 'Server', 'date': 'Sun, 04 Dec 2022 17:06:43 GMT', 'content-type': 'application/x-amz-json-1.0', 'content-length': '2', 'connection': 'keep-alive', 'x-amzn-requestid': 'RCKS1DSTM0ORH81BSIC9D7MPU3VV4KQNSO5AEMVJF66Q9ASUAAJG', 'x-amz-crc32': '2745614147'}, 'RetryAttempts': 0}}\n",
      "{'artist': 'Claire Sharp', 'song': 'Beaver Electric', 'id': 'f9ab6076-3582-479e-877e-f27d5c0919d9', 'priceUsdCents': 209, 'publisher': 'PORTICO'}\n",
      "{'artist': {'S': 'Claire Sharp'}, 'song': {'S': 'Beaver Electric'}, 'id': {'S': 'f9ab6076-3582-479e-877e-f27d5c0919d9'}, 'priceUsdCents': {'S': '209'}, 'publisher': {'S': 'PORTICO'}}\n",
      "UPLOADING ITEM\n",
      "{'ResponseMetadata': {'RequestId': '64KCOACVRL1P4HB145NQ7MHGFVVV4KQNSO5AEMVJF66Q9ASUAAJG', 'HTTPStatusCode': 200, 'HTTPHeaders': {'server': 'Server', 'date': 'Sun, 04 Dec 2022 17:06:43 GMT', 'content-type': 'application/x-amz-json-1.0', 'content-length': '2', 'connection': 'keep-alive', 'x-amzn-requestid': '64KCOACVRL1P4HB145NQ7MHGFVVV4KQNSO5AEMVJF66Q9ASUAAJG', 'x-amz-crc32': '2745614147'}, 'RetryAttempts': 0}}\n",
      "{'artist': 'Lilian Horton', 'song': 'Bright Coral', 'id': '634d096f-edc1-4452-a73c-d417c7e46c04', 'priceUsdCents': 227, 'publisher': 'GUSHKOOL'}\n",
      "{'artist': {'S': 'Lilian Horton'}, 'song': {'S': 'Bright Coral'}, 'id': {'S': '634d096f-edc1-4452-a73c-d417c7e46c04'}, 'priceUsdCents': {'S': '227'}, 'publisher': {'S': 'GUSHKOOL'}}\n",
      "UPLOADING ITEM\n",
      "{'ResponseMetadata': {'RequestId': 'O2IKBUR4VLALA84ODU9JRTN3UBVV4KQNSO5AEMVJF66Q9ASUAAJG', 'HTTPStatusCode': 200, 'HTTPHeaders': {'server': 'Server', 'date': 'Sun, 04 Dec 2022 17:06:43 GMT', 'content-type': 'application/x-amz-json-1.0', 'content-length': '2', 'connection': 'keep-alive', 'x-amzn-requestid': 'O2IKBUR4VLALA84ODU9JRTN3UBVV4KQNSO5AEMVJF66Q9ASUAAJG', 'x-amz-crc32': '2745614147'}, 'RetryAttempts': 0}}\n",
      "{'artist': 'Reba George', 'song': 'Bone Coquelicot', 'id': 'a0d5a2c1-7086-46a5-98ea-36724a296728', 'priceUsdCents': 124, 'publisher': 'MANGLO'}\n",
      "{'artist': {'S': 'Reba George'}, 'song': {'S': 'Bone Coquelicot'}, 'id': {'S': 'a0d5a2c1-7086-46a5-98ea-36724a296728'}, 'priceUsdCents': {'S': '124'}, 'publisher': {'S': 'MANGLO'}}\n",
      "UPLOADING ITEM\n",
      "{'ResponseMetadata': {'RequestId': '54A9539R1VEHBBEIS89CB63HNJVV4KQNSO5AEMVJF66Q9ASUAAJG', 'HTTPStatusCode': 200, 'HTTPHeaders': {'server': 'Server', 'date': 'Sun, 04 Dec 2022 17:06:44 GMT', 'content-type': 'application/x-amz-json-1.0', 'content-length': '2', 'connection': 'keep-alive', 'x-amzn-requestid': '54A9539R1VEHBBEIS89CB63HNJVV4KQNSO5AEMVJF66Q9ASUAAJG', 'x-amz-crc32': '2745614147'}, 'RetryAttempts': 0}}\n",
      "{'artist': 'Ruiz Vaughn', 'song': 'Byzantium Feldgrau', 'id': '202cb417-0b2b-4809-8993-0916aa62ff67', 'priceUsdCents': 223, 'publisher': 'RONBERT'}\n",
      "{'artist': {'S': 'Ruiz Vaughn'}, 'song': {'S': 'Byzantium Feldgrau'}, 'id': {'S': '202cb417-0b2b-4809-8993-0916aa62ff67'}, 'priceUsdCents': {'S': '223'}, 'publisher': {'S': 'RONBERT'}}\n",
      "UPLOADING ITEM\n",
      "{'ResponseMetadata': {'RequestId': 'Q9KTFN5TJK3AE3LUSDBNONPBV7VV4KQNSO5AEMVJF66Q9ASUAAJG', 'HTTPStatusCode': 200, 'HTTPHeaders': {'server': 'Server', 'date': 'Sun, 04 Dec 2022 17:06:44 GMT', 'content-type': 'application/x-amz-json-1.0', 'content-length': '2', 'connection': 'keep-alive', 'x-amzn-requestid': 'Q9KTFN5TJK3AE3LUSDBNONPBV7VV4KQNSO5AEMVJF66Q9ASUAAJG', 'x-amz-crc32': '2745614147'}, 'RetryAttempts': 0}}\n",
      "{'artist': 'Wilcox Contreras', 'song': 'Brink Cocoa', 'id': 'c7763312-b732-4ad9-8d58-295f36e3f411', 'priceUsdCents': 214, 'publisher': 'ZENTIA'}\n",
      "{'artist': {'S': 'Wilcox Contreras'}, 'song': {'S': 'Brink Cocoa'}, 'id': {'S': 'c7763312-b732-4ad9-8d58-295f36e3f411'}, 'priceUsdCents': {'S': '214'}, 'publisher': {'S': 'ZENTIA'}}\n",
      "UPLOADING ITEM\n",
      "{'ResponseMetadata': {'RequestId': '2EO4DTI3C2O1H28IVTU8H044SFVV4KQNSO5AEMVJF66Q9ASUAAJG', 'HTTPStatusCode': 200, 'HTTPHeaders': {'server': 'Server', 'date': 'Sun, 04 Dec 2022 17:06:44 GMT', 'content-type': 'application/x-amz-json-1.0', 'content-length': '2', 'connection': 'keep-alive', 'x-amzn-requestid': '2EO4DTI3C2O1H28IVTU8H044SFVV4KQNSO5AEMVJF66Q9ASUAAJG', 'x-amz-crc32': '2745614147'}, 'RetryAttempts': 0}}\n",
      "{'artist': 'Jodi Ruiz', 'song': 'Auburn Chartreuse', 'id': 'ab89362d-3ef7-461e-a093-60aa2e28eb07', 'priceUsdCents': 215, 'publisher': 'ZOLAVO'}\n",
      "{'artist': {'S': 'Jodi Ruiz'}, 'song': {'S': 'Auburn Chartreuse'}, 'id': {'S': 'ab89362d-3ef7-461e-a093-60aa2e28eb07'}, 'priceUsdCents': {'S': '215'}, 'publisher': {'S': 'ZOLAVO'}}\n",
      "UPLOADING ITEM\n",
      "{'ResponseMetadata': {'RequestId': '70GB0J0CPN1AIV4NS33JAD112JVV4KQNSO5AEMVJF66Q9ASUAAJG', 'HTTPStatusCode': 200, 'HTTPHeaders': {'server': 'Server', 'date': 'Sun, 04 Dec 2022 17:06:44 GMT', 'content-type': 'application/x-amz-json-1.0', 'content-length': '2', 'connection': 'keep-alive', 'x-amzn-requestid': '70GB0J0CPN1AIV4NS33JAD112JVV4KQNSO5AEMVJF66Q9ASUAAJG', 'x-amz-crc32': '2745614147'}, 'RetryAttempts': 0}}\n",
      "{'artist': 'Potter Keith', 'song': 'Arctic CG', 'id': 'e52cb1f0-2459-4c60-9841-4497fcdab5a9', 'priceUsdCents': 173, 'publisher': 'CIRCUM'}\n",
      "{'artist': {'S': 'Potter Keith'}, 'song': {'S': 'Arctic CG'}, 'id': {'S': 'e52cb1f0-2459-4c60-9841-4497fcdab5a9'}, 'priceUsdCents': {'S': '173'}, 'publisher': {'S': 'CIRCUM'}}\n",
      "UPLOADING ITEM\n",
      "{'ResponseMetadata': {'RequestId': 'F2RAH8JOOVU3662R1CD13B6V5NVV4KQNSO5AEMVJF66Q9ASUAAJG', 'HTTPStatusCode': 200, 'HTTPHeaders': {'server': 'Server', 'date': 'Sun, 04 Dec 2022 17:06:44 GMT', 'content-type': 'application/x-amz-json-1.0', 'content-length': '2', 'connection': 'keep-alive', 'x-amzn-requestid': 'F2RAH8JOOVU3662R1CD13B6V5NVV4KQNSO5AEMVJF66Q9ASUAAJG', 'x-amz-crc32': '2745614147'}, 'RetryAttempts': 0}}\n",
      "{'artist': 'Wilson Randall', 'song': 'Black Coral', 'id': '6726183b-0b9a-4060-a1c6-6dec1e726070', 'priceUsdCents': 206, 'publisher': 'GEEKUS'}\n",
      "{'artist': {'S': 'Wilson Randall'}, 'song': {'S': 'Black Coral'}, 'id': {'S': '6726183b-0b9a-4060-a1c6-6dec1e726070'}, 'priceUsdCents': {'S': '206'}, 'publisher': {'S': 'GEEKUS'}}\n",
      "UPLOADING ITEM\n",
      "{'ResponseMetadata': {'RequestId': 'NR2KT41V0J3BL8M4CA8MAA1D93VV4KQNSO5AEMVJF66Q9ASUAAJG', 'HTTPStatusCode': 200, 'HTTPHeaders': {'server': 'Server', 'date': 'Sun, 04 Dec 2022 17:06:44 GMT', 'content-type': 'application/x-amz-json-1.0', 'content-length': '2', 'connection': 'keep-alive', 'x-amzn-requestid': 'NR2KT41V0J3BL8M4CA8MAA1D93VV4KQNSO5AEMVJF66Q9ASUAAJG', 'x-amz-crc32': '2745614147'}, 'RetryAttempts': 0}}\n",
      "{'artist': 'Morrow Camacho', 'song': 'Bittersweet Poetic', 'id': '23edaed1-d443-4e53-bbbd-c54dc8d3bf5f', 'priceUsdCents': 182, 'publisher': 'MEDESIGN'}\n",
      "{'artist': {'S': 'Morrow Camacho'}, 'song': {'S': 'Bittersweet Poetic'}, 'id': {'S': '23edaed1-d443-4e53-bbbd-c54dc8d3bf5f'}, 'priceUsdCents': {'S': '182'}, 'publisher': {'S': 'MEDESIGN'}}\n",
      "UPLOADING ITEM\n",
      "{'ResponseMetadata': {'RequestId': '5EM052GFMEBDJHC7JUEHAO4FRNVV4KQNSO5AEMVJF66Q9ASUAAJG', 'HTTPStatusCode': 200, 'HTTPHeaders': {'server': 'Server', 'date': 'Sun, 04 Dec 2022 17:06:45 GMT', 'content-type': 'application/x-amz-json-1.0', 'content-length': '2', 'connection': 'keep-alive', 'x-amzn-requestid': '5EM052GFMEBDJHC7JUEHAO4FRNVV4KQNSO5AEMVJF66Q9ASUAAJG', 'x-amz-crc32': '2745614147'}, 'RetryAttempts': 0}}\n",
      "{'artist': 'Clayton Sears', 'song': 'Bitter Dodger', 'id': '17afec57-4fcc-46c0-a63d-04c1ff60f9a2', 'priceUsdCents': 275, 'publisher': 'ZOXY'}\n",
      "{'artist': {'S': 'Clayton Sears'}, 'song': {'S': 'Bitter Dodger'}, 'id': {'S': '17afec57-4fcc-46c0-a63d-04c1ff60f9a2'}, 'priceUsdCents': {'S': '275'}, 'publisher': {'S': 'ZOXY'}}\n"
     ]
    },
    {
     "name": "stdout",
     "output_type": "stream",
     "text": [
      "UPLOADING ITEM\n",
      "{'ResponseMetadata': {'RequestId': 'LKPFF1D8SF3KTMH6DN8KH156K3VV4KQNSO5AEMVJF66Q9ASUAAJG', 'HTTPStatusCode': 200, 'HTTPHeaders': {'server': 'Server', 'date': 'Sun, 04 Dec 2022 17:06:45 GMT', 'content-type': 'application/x-amz-json-1.0', 'content-length': '2', 'connection': 'keep-alive', 'x-amzn-requestid': 'LKPFF1D8SF3KTMH6DN8KH156K3VV4KQNSO5AEMVJF66Q9ASUAAJG', 'x-amz-crc32': '2745614147'}, 'RetryAttempts': 0}}\n",
      "{'artist': 'Nicholson Pate', 'song': 'Cedar CG', 'id': 'af78e70f-67c3-4582-80a5-3b4ae04d4695', 'priceUsdCents': 193, 'publisher': 'MYOPIUM'}\n",
      "{'artist': {'S': 'Nicholson Pate'}, 'song': {'S': 'Cedar CG'}, 'id': {'S': 'af78e70f-67c3-4582-80a5-3b4ae04d4695'}, 'priceUsdCents': {'S': '193'}, 'publisher': {'S': 'MYOPIUM'}}\n",
      "UPLOADING ITEM\n",
      "{'ResponseMetadata': {'RequestId': '5P2Q939N4MOQL7602A82VGF8DVVV4KQNSO5AEMVJF66Q9ASUAAJG', 'HTTPStatusCode': 200, 'HTTPHeaders': {'server': 'Server', 'date': 'Sun, 04 Dec 2022 17:06:45 GMT', 'content-type': 'application/x-amz-json-1.0', 'content-length': '2', 'connection': 'keep-alive', 'x-amzn-requestid': '5P2Q939N4MOQL7602A82VGF8DVVV4KQNSO5AEMVJF66Q9ASUAAJG', 'x-amz-crc32': '2745614147'}, 'RetryAttempts': 0}}\n",
      "{'artist': 'Madeleine Rivers', 'song': 'Bisque Congo', 'id': '596626a8-c54b-4d88-9925-0415d4ab589d', 'priceUsdCents': 137, 'publisher': 'LINGOAGE'}\n",
      "{'artist': {'S': 'Madeleine Rivers'}, 'song': {'S': 'Bisque Congo'}, 'id': {'S': '596626a8-c54b-4d88-9925-0415d4ab589d'}, 'priceUsdCents': {'S': '137'}, 'publisher': {'S': 'LINGOAGE'}}\n",
      "UPLOADING ITEM\n",
      "{'ResponseMetadata': {'RequestId': 'TQ3BATAQF33KFPT0V2T6D1MJFRVV4KQNSO5AEMVJF66Q9ASUAAJG', 'HTTPStatusCode': 200, 'HTTPHeaders': {'server': 'Server', 'date': 'Sun, 04 Dec 2022 17:06:45 GMT', 'content-type': 'application/x-amz-json-1.0', 'content-length': '2', 'connection': 'keep-alive', 'x-amzn-requestid': 'TQ3BATAQF33KFPT0V2T6D1MJFRVV4KQNSO5AEMVJF66Q9ASUAAJG', 'x-amz-crc32': '2745614147'}, 'RetryAttempts': 0}}\n",
      "{'artist': 'Jeannie Benton', 'song': 'Caribbean Denim', 'id': '802afc05-3e72-4c51-b234-7e16a63150e2', 'priceUsdCents': 122, 'publisher': 'XURBAN'}\n",
      "{'artist': {'S': 'Jeannie Benton'}, 'song': {'S': 'Caribbean Denim'}, 'id': {'S': '802afc05-3e72-4c51-b234-7e16a63150e2'}, 'priceUsdCents': {'S': '122'}, 'publisher': {'S': 'XURBAN'}}\n",
      "UPLOADING ITEM\n",
      "{'ResponseMetadata': {'RequestId': '07CLHHI771KVM0LALM3Q75LPUVVV4KQNSO5AEMVJF66Q9ASUAAJG', 'HTTPStatusCode': 200, 'HTTPHeaders': {'server': 'Server', 'date': 'Sun, 04 Dec 2022 17:06:45 GMT', 'content-type': 'application/x-amz-json-1.0', 'content-length': '2', 'connection': 'keep-alive', 'x-amzn-requestid': '07CLHHI771KVM0LALM3Q75LPUVVV4KQNSO5AEMVJF66Q9ASUAAJG', 'x-amz-crc32': '2745614147'}, 'RetryAttempts': 0}}\n",
      "{'artist': 'Jefferson Burks', 'song': 'Buff Copper', 'id': '90ad25a1-a562-4b56-8f0b-aac08e13fd02', 'priceUsdCents': 162, 'publisher': 'ZEAM'}\n",
      "{'artist': {'S': 'Jefferson Burks'}, 'song': {'S': 'Buff Copper'}, 'id': {'S': '90ad25a1-a562-4b56-8f0b-aac08e13fd02'}, 'priceUsdCents': {'S': '162'}, 'publisher': {'S': 'ZEAM'}}\n",
      "UPLOADING ITEM\n",
      "{'ResponseMetadata': {'RequestId': 'L5H1P6M5A2RACQA11Q0I9FSCPJVV4KQNSO5AEMVJF66Q9ASUAAJG', 'HTTPStatusCode': 200, 'HTTPHeaders': {'server': 'Server', 'date': 'Sun, 04 Dec 2022 17:06:46 GMT', 'content-type': 'application/x-amz-json-1.0', 'content-length': '2', 'connection': 'keep-alive', 'x-amzn-requestid': 'L5H1P6M5A2RACQA11Q0I9FSCPJVV4KQNSO5AEMVJF66Q9ASUAAJG', 'x-amz-crc32': '2745614147'}, 'RetryAttempts': 0}}\n",
      "{'artist': 'Diann Osborn', 'song': 'Carmine Fallow', 'id': 'b654e7dd-a907-4fda-8913-d7c12b65b556', 'priceUsdCents': 357, 'publisher': 'HIVEDOM'}\n",
      "{'artist': {'S': 'Diann Osborn'}, 'song': {'S': 'Carmine Fallow'}, 'id': {'S': 'b654e7dd-a907-4fda-8913-d7c12b65b556'}, 'priceUsdCents': {'S': '357'}, 'publisher': {'S': 'HIVEDOM'}}\n",
      "UPLOADING ITEM\n",
      "{'ResponseMetadata': {'RequestId': '6R61RTSG2ICRAFRLT2B94GO293VV4KQNSO5AEMVJF66Q9ASUAAJG', 'HTTPStatusCode': 200, 'HTTPHeaders': {'server': 'Server', 'date': 'Sun, 04 Dec 2022 17:06:46 GMT', 'content-type': 'application/x-amz-json-1.0', 'content-length': '2', 'connection': 'keep-alive', 'x-amzn-requestid': '6R61RTSG2ICRAFRLT2B94GO293VV4KQNSO5AEMVJF66Q9ASUAAJG', 'x-amz-crc32': '2745614147'}, 'RetryAttempts': 0}}\n",
      "{'artist': 'Rose Rowe', 'song': 'Air Cornsilk', 'id': 'c8c124b1-2f03-4f36-aedd-9bee047914e7', 'priceUsdCents': 128, 'publisher': 'IDETICA'}\n",
      "{'artist': {'S': 'Rose Rowe'}, 'song': {'S': 'Air Cornsilk'}, 'id': {'S': 'c8c124b1-2f03-4f36-aedd-9bee047914e7'}, 'priceUsdCents': {'S': '128'}, 'publisher': {'S': 'IDETICA'}}\n",
      "UPLOADING ITEM\n",
      "{'ResponseMetadata': {'RequestId': 'LEGIHBJA373U80PED7E6LG5C47VV4KQNSO5AEMVJF66Q9ASUAAJG', 'HTTPStatusCode': 200, 'HTTPHeaders': {'server': 'Server', 'date': 'Sun, 04 Dec 2022 17:06:46 GMT', 'content-type': 'application/x-amz-json-1.0', 'content-length': '2', 'connection': 'keep-alive', 'x-amzn-requestid': 'LEGIHBJA373U80PED7E6LG5C47VV4KQNSO5AEMVJF66Q9ASUAAJG', 'x-amz-crc32': '2745614147'}, 'RetryAttempts': 0}}\n",
      "{'artist': 'Ilene Mays', 'song': 'Blanched Celadon', 'id': 'e2c2e0b4-bb86-4737-a9c3-3135c345e0a5', 'priceUsdCents': 243, 'publisher': 'FUTURIZE'}\n",
      "{'artist': {'S': 'Ilene Mays'}, 'song': {'S': 'Blanched Celadon'}, 'id': {'S': 'e2c2e0b4-bb86-4737-a9c3-3135c345e0a5'}, 'priceUsdCents': {'S': '243'}, 'publisher': {'S': 'FUTURIZE'}}\n",
      "UPLOADING ITEM\n",
      "{'ResponseMetadata': {'RequestId': '5JUVN2SA8S6L7A99B9MGMGSTE3VV4KQNSO5AEMVJF66Q9ASUAAJG', 'HTTPStatusCode': 200, 'HTTPHeaders': {'server': 'Server', 'date': 'Sun, 04 Dec 2022 17:06:46 GMT', 'content-type': 'application/x-amz-json-1.0', 'content-length': '2', 'connection': 'keep-alive', 'x-amzn-requestid': '5JUVN2SA8S6L7A99B9MGMGSTE3VV4KQNSO5AEMVJF66Q9ASUAAJG', 'x-amz-crc32': '2745614147'}, 'RetryAttempts': 0}}\n",
      "{'artist': 'Margarita Dawson', 'song': 'Baby Claret', 'id': 'fd86fe4f-384e-494a-ae91-f3f2fd49a06d', 'priceUsdCents': 244, 'publisher': 'KATAKANA'}\n",
      "{'artist': {'S': 'Margarita Dawson'}, 'song': {'S': 'Baby Claret'}, 'id': {'S': 'fd86fe4f-384e-494a-ae91-f3f2fd49a06d'}, 'priceUsdCents': {'S': '244'}, 'publisher': {'S': 'KATAKANA'}}\n",
      "UPLOADING ITEM\n",
      "{'ResponseMetadata': {'RequestId': 'AC77GKJ2EQU225003N43UQM433VV4KQNSO5AEMVJF66Q9ASUAAJG', 'HTTPStatusCode': 200, 'HTTPHeaders': {'server': 'Server', 'date': 'Sun, 04 Dec 2022 17:06:46 GMT', 'content-type': 'application/x-amz-json-1.0', 'content-length': '2', 'connection': 'keep-alive', 'x-amzn-requestid': 'AC77GKJ2EQU225003N43UQM433VV4KQNSO5AEMVJF66Q9ASUAAJG', 'x-amz-crc32': '2745614147'}, 'RetryAttempts': 0}}\n",
      "{'artist': 'Dominguez Rocha', 'song': 'Brink CG', 'id': '64acc7ea-d104-43d2-8845-33c7678af85d', 'priceUsdCents': 100, 'publisher': 'SLOGANAUT'}\n",
      "{'artist': {'S': 'Dominguez Rocha'}, 'song': {'S': 'Brink CG'}, 'id': {'S': '64acc7ea-d104-43d2-8845-33c7678af85d'}, 'priceUsdCents': {'S': '100'}, 'publisher': {'S': 'SLOGANAUT'}}\n",
      "UPLOADING ITEM\n",
      "{'ResponseMetadata': {'RequestId': 'QMSFBNMVFGD3A1IKTAINKSJPONVV4KQNSO5AEMVJF66Q9ASUAAJG', 'HTTPStatusCode': 200, 'HTTPHeaders': {'server': 'Server', 'date': 'Sun, 04 Dec 2022 17:06:47 GMT', 'content-type': 'application/x-amz-json-1.0', 'content-length': '2', 'connection': 'keep-alive', 'x-amzn-requestid': 'QMSFBNMVFGD3A1IKTAINKSJPONVV4KQNSO5AEMVJF66Q9ASUAAJG', 'x-amz-crc32': '2745614147'}, 'RetryAttempts': 0}}\n",
      "{'artist': 'Edith Petty', 'song': 'Bistre Chocolate', 'id': '8b250802-7b4d-4fdd-ae44-d68fbcfef386', 'priceUsdCents': 144, 'publisher': 'ZILIDIUM'}\n",
      "{'artist': {'S': 'Edith Petty'}, 'song': {'S': 'Bistre Chocolate'}, 'id': {'S': '8b250802-7b4d-4fdd-ae44-d68fbcfef386'}, 'priceUsdCents': {'S': '144'}, 'publisher': {'S': 'ZILIDIUM'}}\n",
      "UPLOADING ITEM\n",
      "{'ResponseMetadata': {'RequestId': '1D5NJPJKUJKM0DSUSMGK6S02LFVV4KQNSO5AEMVJF66Q9ASUAAJG', 'HTTPStatusCode': 200, 'HTTPHeaders': {'server': 'Server', 'date': 'Sun, 04 Dec 2022 17:06:47 GMT', 'content-type': 'application/x-amz-json-1.0', 'content-length': '2', 'connection': 'keep-alive', 'x-amzn-requestid': '1D5NJPJKUJKM0DSUSMGK6S02LFVV4KQNSO5AEMVJF66Q9ASUAAJG', 'x-amz-crc32': '2745614147'}, 'RetryAttempts': 0}}\n",
      "{'artist': 'Rutledge Rosario', 'song': 'Alabaster Copper', 'id': 'b52dc941-f641-4450-9c5f-24ed83593325', 'priceUsdCents': 244, 'publisher': 'SULFAX'}\n",
      "{'artist': {'S': 'Rutledge Rosario'}, 'song': {'S': 'Alabaster Copper'}, 'id': {'S': 'b52dc941-f641-4450-9c5f-24ed83593325'}, 'priceUsdCents': {'S': '244'}, 'publisher': {'S': 'SULFAX'}}\n"
     ]
    },
    {
     "name": "stdout",
     "output_type": "stream",
     "text": [
      "UPLOADING ITEM\n",
      "{'ResponseMetadata': {'RequestId': 'RCP5595VLTUMOV7JTQ2E6GM9GJVV4KQNSO5AEMVJF66Q9ASUAAJG', 'HTTPStatusCode': 200, 'HTTPHeaders': {'server': 'Server', 'date': 'Sun, 04 Dec 2022 17:06:47 GMT', 'content-type': 'application/x-amz-json-1.0', 'content-length': '2', 'connection': 'keep-alive', 'x-amzn-requestid': 'RCP5595VLTUMOV7JTQ2E6GM9GJVV4KQNSO5AEMVJF66Q9ASUAAJG', 'x-amz-crc32': '2745614147'}, 'RetryAttempts': 0}}\n",
      "{'artist': 'Lillian Zamora', 'song': 'Bittersweet Sunday', 'id': '64b6f717-2524-48ae-b582-c6b059f31a93', 'priceUsdCents': 220, 'publisher': 'SOLAREN'}\n",
      "{'artist': {'S': 'Lillian Zamora'}, 'song': {'S': 'Bittersweet Sunday'}, 'id': {'S': '64b6f717-2524-48ae-b582-c6b059f31a93'}, 'priceUsdCents': {'S': '220'}, 'publisher': {'S': 'SOLAREN'}}\n",
      "UPLOADING ITEM\n",
      "{'ResponseMetadata': {'RequestId': 'F3F5V3CDNO3GOLBQO5RNBPMO93VV4KQNSO5AEMVJF66Q9ASUAAJG', 'HTTPStatusCode': 200, 'HTTPHeaders': {'server': 'Server', 'date': 'Sun, 04 Dec 2022 17:06:47 GMT', 'content-type': 'application/x-amz-json-1.0', 'content-length': '2', 'connection': 'keep-alive', 'x-amzn-requestid': 'F3F5V3CDNO3GOLBQO5RNBPMO93VV4KQNSO5AEMVJF66Q9ASUAAJG', 'x-amz-crc32': '2745614147'}, 'RetryAttempts': 0}}\n",
      "{'artist': 'Walter Villarreal', 'song': 'Candy Flax', 'id': 'd043213f-01fc-4086-83df-e852b6450605', 'priceUsdCents': 297, 'publisher': 'RETRACK'}\n",
      "{'artist': {'S': 'Walter Villarreal'}, 'song': {'S': 'Candy Flax'}, 'id': {'S': 'd043213f-01fc-4086-83df-e852b6450605'}, 'priceUsdCents': {'S': '297'}, 'publisher': {'S': 'RETRACK'}}\n",
      "UPLOADING ITEM\n",
      "{'ResponseMetadata': {'RequestId': '8DB3V7EH4EJDQ07R3LBQ1UQ31VVV4KQNSO5AEMVJF66Q9ASUAAJG', 'HTTPStatusCode': 200, 'HTTPHeaders': {'server': 'Server', 'date': 'Sun, 04 Dec 2022 17:06:47 GMT', 'content-type': 'application/x-amz-json-1.0', 'content-length': '2', 'connection': 'keep-alive', 'x-amzn-requestid': '8DB3V7EH4EJDQ07R3LBQ1UQ31VVV4KQNSO5AEMVJF66Q9ASUAAJG', 'x-amz-crc32': '2745614147'}, 'RetryAttempts': 0}}\n",
      "{'artist': 'Christensen Sandoval', 'song': 'Buff Cerulean', 'id': 'faec7ffb-0df0-4592-9b04-ea04a1ba8620', 'priceUsdCents': 125, 'publisher': 'NITRACYR'}\n",
      "{'artist': {'S': 'Christensen Sandoval'}, 'song': {'S': 'Buff Cerulean'}, 'id': {'S': 'faec7ffb-0df0-4592-9b04-ea04a1ba8620'}, 'priceUsdCents': {'S': '125'}, 'publisher': {'S': 'NITRACYR'}}\n",
      "UPLOADING ITEM\n",
      "{'ResponseMetadata': {'RequestId': 'ORV6HJU73V4N3T5OL993B48ARVVV4KQNSO5AEMVJF66Q9ASUAAJG', 'HTTPStatusCode': 200, 'HTTPHeaders': {'server': 'Server', 'date': 'Sun, 04 Dec 2022 17:06:47 GMT', 'content-type': 'application/x-amz-json-1.0', 'content-length': '2', 'connection': 'keep-alive', 'x-amzn-requestid': 'ORV6HJU73V4N3T5OL993B48ARVVV4KQNSO5AEMVJF66Q9ASUAAJG', 'x-amz-crc32': '2745614147'}, 'RetryAttempts': 0}}\n",
      "{'artist': 'Frances Hall', 'song': 'Amber Poetic', 'id': 'b0d3f55a-490c-49f3-a8cb-5bb873e14f27', 'priceUsdCents': 209, 'publisher': 'ZIZZLE'}\n",
      "{'artist': {'S': 'Frances Hall'}, 'song': {'S': 'Amber Poetic'}, 'id': {'S': 'b0d3f55a-490c-49f3-a8cb-5bb873e14f27'}, 'priceUsdCents': {'S': '209'}, 'publisher': {'S': 'ZIZZLE'}}\n",
      "UPLOADING ITEM\n",
      "{'ResponseMetadata': {'RequestId': 'FVNLO47UMT6QLTONQT7SJN9BLJVV4KQNSO5AEMVJF66Q9ASUAAJG', 'HTTPStatusCode': 200, 'HTTPHeaders': {'server': 'Server', 'date': 'Sun, 04 Dec 2022 17:06:47 GMT', 'content-type': 'application/x-amz-json-1.0', 'content-length': '2', 'connection': 'keep-alive', 'x-amzn-requestid': 'FVNLO47UMT6QLTONQT7SJN9BLJVV4KQNSO5AEMVJF66Q9ASUAAJG', 'x-amz-crc32': '2745614147'}, 'RetryAttempts': 0}}\n",
      "{'artist': 'Nadia Case', 'song': 'Burnt Electric', 'id': 'c87719b9-e166-471f-a0f6-209fca526583', 'priceUsdCents': 299, 'publisher': 'TALKOLA'}\n",
      "{'artist': {'S': 'Nadia Case'}, 'song': {'S': 'Burnt Electric'}, 'id': {'S': 'c87719b9-e166-471f-a0f6-209fca526583'}, 'priceUsdCents': {'S': '299'}, 'publisher': {'S': 'TALKOLA'}}\n",
      "UPLOADING ITEM\n",
      "{'ResponseMetadata': {'RequestId': 'CRU2HOVB2GVSBQF7BIQANH5G43VV4KQNSO5AEMVJF66Q9ASUAAJG', 'HTTPStatusCode': 200, 'HTTPHeaders': {'server': 'Server', 'date': 'Sun, 04 Dec 2022 17:06:48 GMT', 'content-type': 'application/x-amz-json-1.0', 'content-length': '2', 'connection': 'keep-alive', 'x-amzn-requestid': 'CRU2HOVB2GVSBQF7BIQANH5G43VV4KQNSO5AEMVJF66Q9ASUAAJG', 'x-amz-crc32': '2745614147'}, 'RetryAttempts': 0}}\n",
      "{'artist': 'Faulkner Casey', 'song': 'Cadmium Cinnamon', 'id': '01f63218-1ceb-400c-bbd7-4c33a8733b03', 'priceUsdCents': 324, 'publisher': 'UNI'}\n",
      "{'artist': {'S': 'Faulkner Casey'}, 'song': {'S': 'Cadmium Cinnamon'}, 'id': {'S': '01f63218-1ceb-400c-bbd7-4c33a8733b03'}, 'priceUsdCents': {'S': '324'}, 'publisher': {'S': 'UNI'}}\n",
      "UPLOADING ITEM\n",
      "{'ResponseMetadata': {'RequestId': '4CFIM1SVDQUEAVOE8QFQ5F06NVVV4KQNSO5AEMVJF66Q9ASUAAJG', 'HTTPStatusCode': 200, 'HTTPHeaders': {'server': 'Server', 'date': 'Sun, 04 Dec 2022 17:06:48 GMT', 'content-type': 'application/x-amz-json-1.0', 'content-length': '2', 'connection': 'keep-alive', 'x-amzn-requestid': '4CFIM1SVDQUEAVOE8QFQ5F06NVVV4KQNSO5AEMVJF66Q9ASUAAJG', 'x-amz-crc32': '2745614147'}, 'RetryAttempts': 0}}\n",
      "{'artist': 'Kristen Gregory', 'song': 'Brown English', 'id': '9790b013-ae7c-4afb-b166-37a0a012cc5b', 'priceUsdCents': 180, 'publisher': 'INTERODEO'}\n",
      "{'artist': {'S': 'Kristen Gregory'}, 'song': {'S': 'Brown English'}, 'id': {'S': '9790b013-ae7c-4afb-b166-37a0a012cc5b'}, 'priceUsdCents': {'S': '180'}, 'publisher': {'S': 'INTERODEO'}}\n",
      "UPLOADING ITEM\n",
      "{'ResponseMetadata': {'RequestId': 'OUBSCMTVOCSJCNC959V8QA60L3VV4KQNSO5AEMVJF66Q9ASUAAJG', 'HTTPStatusCode': 200, 'HTTPHeaders': {'server': 'Server', 'date': 'Sun, 04 Dec 2022 17:06:48 GMT', 'content-type': 'application/x-amz-json-1.0', 'content-length': '2', 'connection': 'keep-alive', 'x-amzn-requestid': 'OUBSCMTVOCSJCNC959V8QA60L3VV4KQNSO5AEMVJF66Q9ASUAAJG', 'x-amz-crc32': '2745614147'}, 'RetryAttempts': 0}}\n",
      "{'artist': 'Hardy Alexander', 'song': 'Aqua November', 'id': '464cd8a0-b5f6-43c1-a6d6-b548c13602f3', 'priceUsdCents': 289, 'publisher': 'ISOPOP'}\n",
      "{'artist': {'S': 'Hardy Alexander'}, 'song': {'S': 'Aqua November'}, 'id': {'S': '464cd8a0-b5f6-43c1-a6d6-b548c13602f3'}, 'priceUsdCents': {'S': '289'}, 'publisher': {'S': 'ISOPOP'}}\n",
      "UPLOADING ITEM\n",
      "{'ResponseMetadata': {'RequestId': 'CR5QCP311RT3B1EFO26TBJAJLBVV4KQNSO5AEMVJF66Q9ASUAAJG', 'HTTPStatusCode': 200, 'HTTPHeaders': {'server': 'Server', 'date': 'Sun, 04 Dec 2022 17:06:49 GMT', 'content-type': 'application/x-amz-json-1.0', 'content-length': '2', 'connection': 'keep-alive', 'x-amzn-requestid': 'CR5QCP311RT3B1EFO26TBJAJLBVV4KQNSO5AEMVJF66Q9ASUAAJG', 'x-amz-crc32': '2745614147'}, 'RetryAttempts': 3}}\n",
      "{'artist': 'Jerry Floyd', 'song': 'Brown Dartmouth', 'id': '6bef9c2e-0610-49fa-b162-3446aa88757e', 'priceUsdCents': 338, 'publisher': 'HOMETOWN'}\n",
      "{'artist': {'S': 'Jerry Floyd'}, 'song': {'S': 'Brown Dartmouth'}, 'id': {'S': '6bef9c2e-0610-49fa-b162-3446aa88757e'}, 'priceUsdCents': {'S': '338'}, 'publisher': {'S': 'HOMETOWN'}}\n",
      "UPLOADING ITEM\n",
      "{'ResponseMetadata': {'RequestId': 'TALR8K8BT7OCD6Q53LKCMCL8OJVV4KQNSO5AEMVJF66Q9ASUAAJG', 'HTTPStatusCode': 200, 'HTTPHeaders': {'server': 'Server', 'date': 'Sun, 04 Dec 2022 17:06:49 GMT', 'content-type': 'application/x-amz-json-1.0', 'content-length': '2', 'connection': 'keep-alive', 'x-amzn-requestid': 'TALR8K8BT7OCD6Q53LKCMCL8OJVV4KQNSO5AEMVJF66Q9ASUAAJG', 'x-amz-crc32': '2745614147'}, 'RetryAttempts': 0}}\n",
      "{'artist': 'Nichole Phelps', 'song': 'Blue Cultured', 'id': 'c206da83-ad46-4655-86a5-aa95a5bb485e', 'priceUsdCents': 397, 'publisher': 'XIXAN'}\n",
      "{'artist': {'S': 'Nichole Phelps'}, 'song': {'S': 'Blue Cultured'}, 'id': {'S': 'c206da83-ad46-4655-86a5-aa95a5bb485e'}, 'priceUsdCents': {'S': '397'}, 'publisher': {'S': 'XIXAN'}}\n",
      "UPLOADING ITEM\n",
      "{'ResponseMetadata': {'RequestId': 'PCS4BK9QGERQIV1QGORTDBQ6JFVV4KQNSO5AEMVJF66Q9ASUAAJG', 'HTTPStatusCode': 200, 'HTTPHeaders': {'server': 'Server', 'date': 'Sun, 04 Dec 2022 17:06:50 GMT', 'content-type': 'application/x-amz-json-1.0', 'content-length': '2', 'connection': 'keep-alive', 'x-amzn-requestid': 'PCS4BK9QGERQIV1QGORTDBQ6JFVV4KQNSO5AEMVJF66Q9ASUAAJG', 'x-amz-crc32': '2745614147'}, 'RetryAttempts': 0}}\n",
      "{'artist': 'Marguerite Mcclure', 'song': 'Cedar Columbia', 'id': '4e01c867-3084-4ae4-9c8a-5b0750465037', 'priceUsdCents': 207, 'publisher': 'TELEQUIET'}\n",
      "{'artist': {'S': 'Marguerite Mcclure'}, 'song': {'S': 'Cedar Columbia'}, 'id': {'S': '4e01c867-3084-4ae4-9c8a-5b0750465037'}, 'priceUsdCents': {'S': '207'}, 'publisher': {'S': 'TELEQUIET'}}\n",
      "UPLOADING ITEM\n",
      "{'ResponseMetadata': {'RequestId': 'MQHQSE26EJ35KOOAQ65V6NJ1D7VV4KQNSO5AEMVJF66Q9ASUAAJG', 'HTTPStatusCode': 200, 'HTTPHeaders': {'server': 'Server', 'date': 'Sun, 04 Dec 2022 17:06:50 GMT', 'content-type': 'application/x-amz-json-1.0', 'content-length': '2', 'connection': 'keep-alive', 'x-amzn-requestid': 'MQHQSE26EJ35KOOAQ65V6NJ1D7VV4KQNSO5AEMVJF66Q9ASUAAJG', 'x-amz-crc32': '2745614147'}, 'RetryAttempts': 0}}\n",
      "{'artist': 'Beach Evans', 'song': 'Bright Coffee', 'id': '26d74b66-5bb7-46e6-89cb-b8864b8111bf', 'priceUsdCents': 120, 'publisher': 'OHMNET'}\n",
      "{'artist': {'S': 'Beach Evans'}, 'song': {'S': 'Bright Coffee'}, 'id': {'S': '26d74b66-5bb7-46e6-89cb-b8864b8111bf'}, 'priceUsdCents': {'S': '120'}, 'publisher': {'S': 'OHMNET'}}\n"
     ]
    },
    {
     "name": "stdout",
     "output_type": "stream",
     "text": [
      "UPLOADING ITEM\n",
      "{'ResponseMetadata': {'RequestId': '29RMDH9GFC16M6LBM510VFK397VV4KQNSO5AEMVJF66Q9ASUAAJG', 'HTTPStatusCode': 200, 'HTTPHeaders': {'server': 'Server', 'date': 'Sun, 04 Dec 2022 17:06:50 GMT', 'content-type': 'application/x-amz-json-1.0', 'content-length': '2', 'connection': 'keep-alive', 'x-amzn-requestid': '29RMDH9GFC16M6LBM510VFK397VV4KQNSO5AEMVJF66Q9ASUAAJG', 'x-amz-crc32': '2745614147'}, 'RetryAttempts': 0}}\n",
      "{'artist': 'Clarke Peterson', 'song': 'Carnelian Falu', 'id': 'd708c366-0580-410b-a0d7-1f7c91ecc7c4', 'priceUsdCents': 339, 'publisher': 'LUMBREX'}\n",
      "{'artist': {'S': 'Clarke Peterson'}, 'song': {'S': 'Carnelian Falu'}, 'id': {'S': 'd708c366-0580-410b-a0d7-1f7c91ecc7c4'}, 'priceUsdCents': {'S': '339'}, 'publisher': {'S': 'LUMBREX'}}\n",
      "UPLOADING ITEM\n",
      "{'ResponseMetadata': {'RequestId': '4F4QA42FU4ABOB68NAU87KB46RVV4KQNSO5AEMVJF66Q9ASUAAJG', 'HTTPStatusCode': 200, 'HTTPHeaders': {'server': 'Server', 'date': 'Sun, 04 Dec 2022 17:06:50 GMT', 'content-type': 'application/x-amz-json-1.0', 'content-length': '2', 'connection': 'keep-alive', 'x-amzn-requestid': '4F4QA42FU4ABOB68NAU87KB46RVV4KQNSO5AEMVJF66Q9ASUAAJG', 'x-amz-crc32': '2745614147'}, 'RetryAttempts': 0}}\n",
      "{'artist': 'Bertie Michael', 'song': 'Ash Chinese', 'id': 'd25ff9f9-25ae-459d-8591-7650106a3d11', 'priceUsdCents': 204, 'publisher': 'CRUSTATIA'}\n",
      "{'artist': {'S': 'Bertie Michael'}, 'song': {'S': 'Ash Chinese'}, 'id': {'S': 'd25ff9f9-25ae-459d-8591-7650106a3d11'}, 'priceUsdCents': {'S': '204'}, 'publisher': {'S': 'CRUSTATIA'}}\n",
      "UPLOADING ITEM\n",
      "{'ResponseMetadata': {'RequestId': '64TRGA2I58A9KAHRDBLR6DQD83VV4KQNSO5AEMVJF66Q9ASUAAJG', 'HTTPStatusCode': 200, 'HTTPHeaders': {'server': 'Server', 'date': 'Sun, 04 Dec 2022 17:06:50 GMT', 'content-type': 'application/x-amz-json-1.0', 'content-length': '2', 'connection': 'keep-alive', 'x-amzn-requestid': '64TRGA2I58A9KAHRDBLR6DQD83VV4KQNSO5AEMVJF66Q9ASUAAJG', 'x-amz-crc32': '2745614147'}, 'RetryAttempts': 0}}\n",
      "{'artist': 'Barr Good', 'song': 'Black Earth', 'id': '882c720a-a0ba-4fe1-9e02-eb2640a3677a', 'priceUsdCents': 153, 'publisher': 'OCEANICA'}\n",
      "{'artist': {'S': 'Barr Good'}, 'song': {'S': 'Black Earth'}, 'id': {'S': '882c720a-a0ba-4fe1-9e02-eb2640a3677a'}, 'priceUsdCents': {'S': '153'}, 'publisher': {'S': 'OCEANICA'}}\n",
      "UPLOADING ITEM\n",
      "{'ResponseMetadata': {'RequestId': 'GO8P7H32MVRBM8F4U0TQ8P3OJFVV4KQNSO5AEMVJF66Q9ASUAAJG', 'HTTPStatusCode': 200, 'HTTPHeaders': {'server': 'Server', 'date': 'Sun, 04 Dec 2022 17:06:50 GMT', 'content-type': 'application/x-amz-json-1.0', 'content-length': '2', 'connection': 'keep-alive', 'x-amzn-requestid': 'GO8P7H32MVRBM8F4U0TQ8P3OJFVV4KQNSO5AEMVJF66Q9ASUAAJG', 'x-amz-crc32': '2745614147'}, 'RetryAttempts': 0}}\n",
      "{'artist': 'Rios Sheppard', 'song': 'Blanched Davy', 'id': '38ad21d5-679d-4352-bab6-11a03ea167d3', 'priceUsdCents': 222, 'publisher': 'BUZZMAKER'}\n",
      "{'artist': {'S': 'Rios Sheppard'}, 'song': {'S': 'Blanched Davy'}, 'id': {'S': '38ad21d5-679d-4352-bab6-11a03ea167d3'}, 'priceUsdCents': {'S': '222'}, 'publisher': {'S': 'BUZZMAKER'}}\n",
      "UPLOADING ITEM\n",
      "{'ResponseMetadata': {'RequestId': '6Q568N366POBVIA5D55F0GUC7FVV4KQNSO5AEMVJF66Q9ASUAAJG', 'HTTPStatusCode': 200, 'HTTPHeaders': {'server': 'Server', 'date': 'Sun, 04 Dec 2022 17:06:51 GMT', 'content-type': 'application/x-amz-json-1.0', 'content-length': '2', 'connection': 'keep-alive', 'x-amzn-requestid': '6Q568N366POBVIA5D55F0GUC7FVV4KQNSO5AEMVJF66Q9ASUAAJG', 'x-amz-crc32': '2745614147'}, 'RetryAttempts': 0}}\n",
      "{'artist': 'Natalia Wooten', 'song': 'Alloy Charleston', 'id': '107adc93-dcbb-4ffe-9259-ebe67cdfce32', 'priceUsdCents': 273, 'publisher': 'GORGANIC'}\n",
      "{'artist': {'S': 'Natalia Wooten'}, 'song': {'S': 'Alloy Charleston'}, 'id': {'S': '107adc93-dcbb-4ffe-9259-ebe67cdfce32'}, 'priceUsdCents': {'S': '273'}, 'publisher': {'S': 'GORGANIC'}}\n",
      "UPLOADING ITEM\n",
      "{'ResponseMetadata': {'RequestId': 'V31AP4LML2SD50BM3VAU580CE7VV4KQNSO5AEMVJF66Q9ASUAAJG', 'HTTPStatusCode': 200, 'HTTPHeaders': {'server': 'Server', 'date': 'Sun, 04 Dec 2022 17:06:51 GMT', 'content-type': 'application/x-amz-json-1.0', 'content-length': '2', 'connection': 'keep-alive', 'x-amzn-requestid': 'V31AP4LML2SD50BM3VAU580CE7VV4KQNSO5AEMVJF66Q9ASUAAJG', 'x-amz-crc32': '2745614147'}, 'RetryAttempts': 0}}\n",
      "{'artist': 'Hopkins Levine', 'song': 'Blue China', 'id': '5df65ddf-afe7-4514-93c2-93f53885cf71', 'priceUsdCents': 248, 'publisher': 'GINKLE'}\n",
      "{'artist': {'S': 'Hopkins Levine'}, 'song': {'S': 'Blue China'}, 'id': {'S': '5df65ddf-afe7-4514-93c2-93f53885cf71'}, 'priceUsdCents': {'S': '248'}, 'publisher': {'S': 'GINKLE'}}\n",
      "UPLOADING ITEM\n",
      "{'ResponseMetadata': {'RequestId': '9IOBODMJ51FQPI0U8A569NU95BVV4KQNSO5AEMVJF66Q9ASUAAJG', 'HTTPStatusCode': 200, 'HTTPHeaders': {'server': 'Server', 'date': 'Sun, 04 Dec 2022 17:06:51 GMT', 'content-type': 'application/x-amz-json-1.0', 'content-length': '2', 'connection': 'keep-alive', 'x-amzn-requestid': '9IOBODMJ51FQPI0U8A569NU95BVV4KQNSO5AEMVJF66Q9ASUAAJG', 'x-amz-crc32': '2745614147'}, 'RetryAttempts': 0}}\n",
      "{'artist': 'Monique Curry', 'song': 'Aqua Cyclamen', 'id': '5148a24f-5c13-4861-96d7-ca957af1b16d', 'priceUsdCents': 226, 'publisher': 'INTRADISK'}\n",
      "{'artist': {'S': 'Monique Curry'}, 'song': {'S': 'Aqua Cyclamen'}, 'id': {'S': '5148a24f-5c13-4861-96d7-ca957af1b16d'}, 'priceUsdCents': {'S': '226'}, 'publisher': {'S': 'INTRADISK'}}\n",
      "UPLOADING ITEM\n",
      "{'ResponseMetadata': {'RequestId': 'KEQCQLO81SABM1VME5HUIRFEL7VV4KQNSO5AEMVJF66Q9ASUAAJG', 'HTTPStatusCode': 200, 'HTTPHeaders': {'server': 'Server', 'date': 'Sun, 04 Dec 2022 17:06:51 GMT', 'content-type': 'application/x-amz-json-1.0', 'content-length': '2', 'connection': 'keep-alive', 'x-amzn-requestid': 'KEQCQLO81SABM1VME5HUIRFEL7VV4KQNSO5AEMVJF66Q9ASUAAJG', 'x-amz-crc32': '2745614147'}, 'RetryAttempts': 0}}\n",
      "{'artist': 'Kirsten Decker', 'song': 'Ash Cinnamon', 'id': 'ca90e78f-d4d3-4af3-9b20-254254a4d922', 'priceUsdCents': 193, 'publisher': 'COMTOURS'}\n",
      "{'artist': {'S': 'Kirsten Decker'}, 'song': {'S': 'Ash Cinnamon'}, 'id': {'S': 'ca90e78f-d4d3-4af3-9b20-254254a4d922'}, 'priceUsdCents': {'S': '193'}, 'publisher': {'S': 'COMTOURS'}}\n",
      "UPLOADING ITEM\n",
      "{'ResponseMetadata': {'RequestId': '3UAQESGP9V9H0P0C5TV0I9G9MBVV4KQNSO5AEMVJF66Q9ASUAAJG', 'HTTPStatusCode': 200, 'HTTPHeaders': {'server': 'Server', 'date': 'Sun, 04 Dec 2022 17:06:52 GMT', 'content-type': 'application/x-amz-json-1.0', 'content-length': '2', 'connection': 'keep-alive', 'x-amzn-requestid': '3UAQESGP9V9H0P0C5TV0I9G9MBVV4KQNSO5AEMVJF66Q9ASUAAJG', 'x-amz-crc32': '2745614147'}, 'RetryAttempts': 0}}\n",
      "{'artist': 'DJ DW', 'song': 'Battleship Cinnamon', 'id': 'ba66eb9d-f8b5-4924-a9e2-e8817e02b03a', 'priceUsdCents': 365, 'publisher': 'MUSICMAN INC'}\n",
      "{'artist': {'S': 'DJ DW'}, 'song': {'S': 'Battleship Cinnamon'}, 'id': {'S': 'ba66eb9d-f8b5-4924-a9e2-e8817e02b03a'}, 'priceUsdCents': {'S': '365'}, 'publisher': {'S': 'MUSICMAN INC'}}\n",
      "UPLOADING ITEM\n",
      "{'ResponseMetadata': {'RequestId': 'M3T4372DGC3APDPJ4N3BN9GI0VVV4KQNSO5AEMVJF66Q9ASUAAJG', 'HTTPStatusCode': 200, 'HTTPHeaders': {'server': 'Server', 'date': 'Sun, 04 Dec 2022 17:06:52 GMT', 'content-type': 'application/x-amz-json-1.0', 'content-length': '2', 'connection': 'keep-alive', 'x-amzn-requestid': 'M3T4372DGC3APDPJ4N3BN9GI0VVV4KQNSO5AEMVJF66Q9ASUAAJG', 'x-amz-crc32': '2745614147'}, 'RetryAttempts': 0}}\n",
      "{'artist': 'Arturus Ardvarkian', 'song': 'Bright Cerulean', 'id': '84024726-d9ba-4dd4-830d-1022f79eca97', 'priceUsdCents': 166, 'publisher': 'GLOBOMANTICS MUSIC'}\n",
      "{'artist': {'S': 'Arturus Ardvarkian'}, 'song': {'S': 'Bright Cerulean'}, 'id': {'S': '84024726-d9ba-4dd4-830d-1022f79eca97'}, 'priceUsdCents': {'S': '166'}, 'publisher': {'S': 'GLOBOMANTICS MUSIC'}}\n",
      "UPLOADING ITEM\n",
      "{'ResponseMetadata': {'RequestId': 'V8989FB2PQD2U7SFQR4DR25GVRVV4KQNSO5AEMVJF66Q9ASUAAJG', 'HTTPStatusCode': 200, 'HTTPHeaders': {'server': 'Server', 'date': 'Sun, 04 Dec 2022 17:06:52 GMT', 'content-type': 'application/x-amz-json-1.0', 'content-length': '2', 'connection': 'keep-alive', 'x-amzn-requestid': 'V8989FB2PQD2U7SFQR4DR25GVRVV4KQNSO5AEMVJF66Q9ASUAAJG', 'x-amz-crc32': '2745614147'}, 'RetryAttempts': 0}}\n",
      "{'artist': 'DJ DW', 'song': 'Black Crimson', 'id': 'c79bcf38-d459-4479-a385-a27a9bdb558a', 'priceUsdCents': 370, 'publisher': 'GLOBOMANTICS MUSIC'}\n",
      "{'artist': {'S': 'DJ DW'}, 'song': {'S': 'Black Crimson'}, 'id': {'S': 'c79bcf38-d459-4479-a385-a27a9bdb558a'}, 'priceUsdCents': {'S': '370'}, 'publisher': {'S': 'GLOBOMANTICS MUSIC'}}\n"
     ]
    },
    {
     "name": "stdout",
     "output_type": "stream",
     "text": [
      "UPLOADING ITEM\n",
      "{'ResponseMetadata': {'RequestId': 'L53INRP4JEH6ESJVHTP6TGBBDNVV4KQNSO5AEMVJF66Q9ASUAAJG', 'HTTPStatusCode': 200, 'HTTPHeaders': {'server': 'Server', 'date': 'Sun, 04 Dec 2022 17:06:52 GMT', 'content-type': 'application/x-amz-json-1.0', 'content-length': '2', 'connection': 'keep-alive', 'x-amzn-requestid': 'L53INRP4JEH6ESJVHTP6TGBBDNVV4KQNSO5AEMVJF66Q9ASUAAJG', 'x-amz-crc32': '2745614147'}, 'RetryAttempts': 0}}\n",
      "{'artist': 'DJ DW', 'song': 'Caribbean Citron', 'id': '8643a896-a7a9-4139-95cc-583e1710b2b1', 'priceUsdCents': 360, 'publisher': 'MUSICMAN INC'}\n",
      "{'artist': {'S': 'DJ DW'}, 'song': {'S': 'Caribbean Citron'}, 'id': {'S': '8643a896-a7a9-4139-95cc-583e1710b2b1'}, 'priceUsdCents': {'S': '360'}, 'publisher': {'S': 'MUSICMAN INC'}}\n",
      "UPLOADING ITEM\n",
      "{'ResponseMetadata': {'RequestId': 'OSN5P1228SHOO3MA90AQFUKTNFVV4KQNSO5AEMVJF66Q9ASUAAJG', 'HTTPStatusCode': 200, 'HTTPHeaders': {'server': 'Server', 'date': 'Sun, 04 Dec 2022 17:06:52 GMT', 'content-type': 'application/x-amz-json-1.0', 'content-length': '2', 'connection': 'keep-alive', 'x-amzn-requestid': 'OSN5P1228SHOO3MA90AQFUKTNFVV4KQNSO5AEMVJF66Q9ASUAAJG', 'x-amz-crc32': '2745614147'}, 'RetryAttempts': 0}}\n",
      "{'artist': 'Arturus Ardvarkian', 'song': 'Carnelian Cobalt', 'id': '5e8d8ff7-25a7-41c6-a1fa-ac823fda0161', 'priceUsdCents': 311, 'publisher': 'GLOBOMANTICS MUSIC'}\n",
      "{'artist': {'S': 'Arturus Ardvarkian'}, 'song': {'S': 'Carnelian Cobalt'}, 'id': {'S': '5e8d8ff7-25a7-41c6-a1fa-ac823fda0161'}, 'priceUsdCents': {'S': '311'}, 'publisher': {'S': 'GLOBOMANTICS MUSIC'}}\n",
      "UPLOADING ITEM\n",
      "{'ResponseMetadata': {'RequestId': 'LS9F2CJV0JME4CRPQK4GNGMEK3VV4KQNSO5AEMVJF66Q9ASUAAJG', 'HTTPStatusCode': 200, 'HTTPHeaders': {'server': 'Server', 'date': 'Sun, 04 Dec 2022 17:06:52 GMT', 'content-type': 'application/x-amz-json-1.0', 'content-length': '2', 'connection': 'keep-alive', 'x-amzn-requestid': 'LS9F2CJV0JME4CRPQK4GNGMEK3VV4KQNSO5AEMVJF66Q9ASUAAJG', 'x-amz-crc32': '2745614147'}, 'RetryAttempts': 0}}\n",
      "{'artist': 'Professor RattyB', 'song': 'Big Cyan', 'id': '209e59fb-68a5-45a1-aebb-f84447229a4e', 'priceUsdCents': 261, 'publisher': 'MUSICMAN INC'}\n",
      "{'artist': {'S': 'Professor RattyB'}, 'song': {'S': 'Big Cyan'}, 'id': {'S': '209e59fb-68a5-45a1-aebb-f84447229a4e'}, 'priceUsdCents': {'S': '261'}, 'publisher': {'S': 'MUSICMAN INC'}}\n",
      "UPLOADING ITEM\n",
      "{'ResponseMetadata': {'RequestId': 'Q6JIUOQ4PBNO6R8UDRA15KQ70FVV4KQNSO5AEMVJF66Q9ASUAAJG', 'HTTPStatusCode': 200, 'HTTPHeaders': {'server': 'Server', 'date': 'Sun, 04 Dec 2022 17:06:53 GMT', 'content-type': 'application/x-amz-json-1.0', 'content-length': '2', 'connection': 'keep-alive', 'x-amzn-requestid': 'Q6JIUOQ4PBNO6R8UDRA15KQ70FVV4KQNSO5AEMVJF66Q9ASUAAJG', 'x-amz-crc32': '2745614147'}, 'RetryAttempts': 0}}\n",
      "{'artist': 'Arturus Ardvarkian', 'song': 'Bright Electric', 'id': 'ced73077-f8c7-40d0-96ee-8d995baa080b', 'priceUsdCents': 273, 'publisher': 'GLOBOMANTICS MUSIC'}\n",
      "{'artist': {'S': 'Arturus Ardvarkian'}, 'song': {'S': 'Bright Electric'}, 'id': {'S': 'ced73077-f8c7-40d0-96ee-8d995baa080b'}, 'priceUsdCents': {'S': '273'}, 'publisher': {'S': 'GLOBOMANTICS MUSIC'}}\n",
      "UPLOADING ITEM\n",
      "{'ResponseMetadata': {'RequestId': 'QSA1GQSLE8AAABN8RTK5B10UNVVV4KQNSO5AEMVJF66Q9ASUAAJG', 'HTTPStatusCode': 200, 'HTTPHeaders': {'server': 'Server', 'date': 'Sun, 04 Dec 2022 17:06:53 GMT', 'content-type': 'application/x-amz-json-1.0', 'content-length': '2', 'connection': 'keep-alive', 'x-amzn-requestid': 'QSA1GQSLE8AAABN8RTK5B10UNVVV4KQNSO5AEMVJF66Q9ASUAAJG', 'x-amz-crc32': '2745614147'}, 'RetryAttempts': 0}}\n",
      "{'artist': 'Professor RattyB', 'song': 'Blanched Cornsilk', 'id': '88ca6ef9-8cd4-4a52-9c85-f7d7ac81c275', 'priceUsdCents': 192, 'publisher': 'MUSICMAN INC'}\n",
      "{'artist': {'S': 'Professor RattyB'}, 'song': {'S': 'Blanched Cornsilk'}, 'id': {'S': '88ca6ef9-8cd4-4a52-9c85-f7d7ac81c275'}, 'priceUsdCents': {'S': '192'}, 'publisher': {'S': 'MUSICMAN INC'}}\n",
      "UPLOADING ITEM\n",
      "{'ResponseMetadata': {'RequestId': 'I4661T0A98IC5C4I89NNNB8URBVV4KQNSO5AEMVJF66Q9ASUAAJG', 'HTTPStatusCode': 200, 'HTTPHeaders': {'server': 'Server', 'date': 'Sun, 04 Dec 2022 17:06:53 GMT', 'content-type': 'application/x-amz-json-1.0', 'content-length': '2', 'connection': 'keep-alive', 'x-amzn-requestid': 'I4661T0A98IC5C4I89NNNB8URBVV4KQNSO5AEMVJF66Q9ASUAAJG', 'x-amz-crc32': '2745614147'}, 'RetryAttempts': 0}}\n",
      "{'artist': 'DJ DW', 'song': 'Amaranth Fever', 'id': '00ea572d-a3ea-41dc-97f6-50af8b26cd13', 'priceUsdCents': 199, 'publisher': 'GLOBOMANTICS MUSIC'}\n",
      "{'artist': {'S': 'DJ DW'}, 'song': {'S': 'Amaranth Fever'}, 'id': {'S': '00ea572d-a3ea-41dc-97f6-50af8b26cd13'}, 'priceUsdCents': {'S': '199'}, 'publisher': {'S': 'GLOBOMANTICS MUSIC'}}\n",
      "UPLOADING ITEM\n",
      "{'ResponseMetadata': {'RequestId': 'PDCVBND8R1EDTUTM0SS26AVE9NVV4KQNSO5AEMVJF66Q9ASUAAJG', 'HTTPStatusCode': 200, 'HTTPHeaders': {'server': 'Server', 'date': 'Sun, 04 Dec 2022 17:06:53 GMT', 'content-type': 'application/x-amz-json-1.0', 'content-length': '2', 'connection': 'keep-alive', 'x-amzn-requestid': 'PDCVBND8R1EDTUTM0SS26AVE9NVV4KQNSO5AEMVJF66Q9ASUAAJG', 'x-amz-crc32': '2745614147'}, 'RetryAttempts': 0}}\n",
      "{'artist': 'Arturus Ardvarkian', 'song': 'Cadmium Eggplant', 'id': '30af38c6-f32d-4e7b-a571-e8641247b975', 'priceUsdCents': 168, 'publisher': 'GLOBOMANTICS MUSIC'}\n",
      "{'artist': {'S': 'Arturus Ardvarkian'}, 'song': {'S': 'Cadmium Eggplant'}, 'id': {'S': '30af38c6-f32d-4e7b-a571-e8641247b975'}, 'priceUsdCents': {'S': '168'}, 'publisher': {'S': 'GLOBOMANTICS MUSIC'}}\n",
      "UPLOADING ITEM\n",
      "{'ResponseMetadata': {'RequestId': 'HABJSD9AAJ3VATDG7S5SELTE7RVV4KQNSO5AEMVJF66Q9ASUAAJG', 'HTTPStatusCode': 200, 'HTTPHeaders': {'server': 'Server', 'date': 'Sun, 04 Dec 2022 17:06:54 GMT', 'content-type': 'application/x-amz-json-1.0', 'content-length': '2', 'connection': 'keep-alive', 'x-amzn-requestid': 'HABJSD9AAJ3VATDG7S5SELTE7RVV4KQNSO5AEMVJF66Q9ASUAAJG', 'x-amz-crc32': '2745614147'}, 'RetryAttempts': 0}}\n",
      "{'artist': 'Arturus Ardvarkian', 'song': 'Bleu Cinnamon', 'id': 'f90cef82-bd0a-44a9-bd3a-bd743c140ced', 'priceUsdCents': 153, 'publisher': 'GLOBOMANTICS MUSIC'}\n",
      "{'artist': {'S': 'Arturus Ardvarkian'}, 'song': {'S': 'Bleu Cinnamon'}, 'id': {'S': 'f90cef82-bd0a-44a9-bd3a-bd743c140ced'}, 'priceUsdCents': {'S': '153'}, 'publisher': {'S': 'GLOBOMANTICS MUSIC'}}\n",
      "UPLOADING ITEM\n",
      "{'ResponseMetadata': {'RequestId': 'F438SFCDU7MHP9GS523U4N0GPNVV4KQNSO5AEMVJF66Q9ASUAAJG', 'HTTPStatusCode': 200, 'HTTPHeaders': {'server': 'Server', 'date': 'Sun, 04 Dec 2022 17:06:54 GMT', 'content-type': 'application/x-amz-json-1.0', 'content-length': '2', 'connection': 'keep-alive', 'x-amzn-requestid': 'F438SFCDU7MHP9GS523U4N0GPNVV4KQNSO5AEMVJF66Q9ASUAAJG', 'x-amz-crc32': '2745614147'}, 'RetryAttempts': 0}}\n",
      "{'artist': 'Arturus Ardvarkian', 'song': 'Carrot Eton', 'id': 'dbea9bd8-fe1f-478a-a98a-5b46d481cf57', 'priceUsdCents': 161, 'publisher': 'MUSICMAN INC'}\n",
      "{'artist': {'S': 'Arturus Ardvarkian'}, 'song': {'S': 'Carrot Eton'}, 'id': {'S': 'dbea9bd8-fe1f-478a-a98a-5b46d481cf57'}, 'priceUsdCents': {'S': '161'}, 'publisher': {'S': 'MUSICMAN INC'}}\n",
      "UPLOADING ITEM\n",
      "{'ResponseMetadata': {'RequestId': '205J909JNBS47L4QE2TD8L5J7BVV4KQNSO5AEMVJF66Q9ASUAAJG', 'HTTPStatusCode': 200, 'HTTPHeaders': {'server': 'Server', 'date': 'Sun, 04 Dec 2022 17:06:54 GMT', 'content-type': 'application/x-amz-json-1.0', 'content-length': '2', 'connection': 'keep-alive', 'x-amzn-requestid': '205J909JNBS47L4QE2TD8L5J7BVV4KQNSO5AEMVJF66Q9ASUAAJG', 'x-amz-crc32': '2745614147'}, 'RetryAttempts': 0}}\n",
      "{'artist': 'Arturus Ardvarkian', 'song': 'Baker Firebrick', 'id': '1a4e5bc5-4fa3-4b37-9d36-e15dc9ab6b21', 'priceUsdCents': 312, 'publisher': 'MUSICMAN INC'}\n",
      "{'artist': {'S': 'Arturus Ardvarkian'}, 'song': {'S': 'Baker Firebrick'}, 'id': {'S': '1a4e5bc5-4fa3-4b37-9d36-e15dc9ab6b21'}, 'priceUsdCents': {'S': '312'}, 'publisher': {'S': 'MUSICMAN INC'}}\n",
      "UPLOADING ITEM\n",
      "{'ResponseMetadata': {'RequestId': 'MFH9E29AKJOAQRGSU631S1BK53VV4KQNSO5AEMVJF66Q9ASUAAJG', 'HTTPStatusCode': 200, 'HTTPHeaders': {'server': 'Server', 'date': 'Sun, 04 Dec 2022 17:06:54 GMT', 'content-type': 'application/x-amz-json-1.0', 'content-length': '2', 'connection': 'keep-alive', 'x-amzn-requestid': 'MFH9E29AKJOAQRGSU631S1BK53VV4KQNSO5AEMVJF66Q9ASUAAJG', 'x-amz-crc32': '2745614147'}, 'RetryAttempts': 0}}\n",
      "{'artist': 'Arturus Ardvarkian', 'song': 'Cadet Celadon', 'id': 'fd7667cb-3a41-4777-93bb-ed2d0d8d7458', 'priceUsdCents': 142, 'publisher': 'MUSICMAN INC'}\n",
      "{'artist': {'S': 'Arturus Ardvarkian'}, 'song': {'S': 'Cadet Celadon'}, 'id': {'S': 'fd7667cb-3a41-4777-93bb-ed2d0d8d7458'}, 'priceUsdCents': {'S': '142'}, 'publisher': {'S': 'MUSICMAN INC'}}\n"
     ]
    },
    {
     "name": "stdout",
     "output_type": "stream",
     "text": [
      "UPLOADING ITEM\n",
      "{'ResponseMetadata': {'RequestId': '4GK0448I18QDU65SRI2MBJAA7VVV4KQNSO5AEMVJF66Q9ASUAAJG', 'HTTPStatusCode': 200, 'HTTPHeaders': {'server': 'Server', 'date': 'Sun, 04 Dec 2022 17:06:54 GMT', 'content-type': 'application/x-amz-json-1.0', 'content-length': '2', 'connection': 'keep-alive', 'x-amzn-requestid': '4GK0448I18QDU65SRI2MBJAA7VVV4KQNSO5AEMVJF66Q9ASUAAJG', 'x-amz-crc32': '2745614147'}, 'RetryAttempts': 0}}\n",
      "{'artist': 'DJ DW', 'song': 'Byzantine Charcoal', 'id': '5ab5351f-212a-4fcc-9a76-b5bfbc5d18a0', 'priceUsdCents': 174, 'publisher': 'MUSICMAN INC'}\n",
      "{'artist': {'S': 'DJ DW'}, 'song': {'S': 'Byzantine Charcoal'}, 'id': {'S': '5ab5351f-212a-4fcc-9a76-b5bfbc5d18a0'}, 'priceUsdCents': {'S': '174'}, 'publisher': {'S': 'MUSICMAN INC'}}\n",
      "UPLOADING ITEM\n",
      "{'ResponseMetadata': {'RequestId': 'H8GNCMD7E58GVF9U9O0DPKA9NJVV4KQNSO5AEMVJF66Q9ASUAAJG', 'HTTPStatusCode': 200, 'HTTPHeaders': {'server': 'Server', 'date': 'Sun, 04 Dec 2022 17:06:55 GMT', 'content-type': 'application/x-amz-json-1.0', 'content-length': '2', 'connection': 'keep-alive', 'x-amzn-requestid': 'H8GNCMD7E58GVF9U9O0DPKA9NJVV4KQNSO5AEMVJF66Q9ASUAAJG', 'x-amz-crc32': '2745614147'}, 'RetryAttempts': 0}}\n",
      "{'artist': 'Arturus Ardvarkian', 'song': 'Brick Cerulean', 'id': '65ce7700-c32d-415c-9bf4-26f4e4911372', 'priceUsdCents': 381, 'publisher': 'GLOBOMANTICS MUSIC'}\n",
      "{'artist': {'S': 'Arturus Ardvarkian'}, 'song': {'S': 'Brick Cerulean'}, 'id': {'S': '65ce7700-c32d-415c-9bf4-26f4e4911372'}, 'priceUsdCents': {'S': '381'}, 'publisher': {'S': 'GLOBOMANTICS MUSIC'}}\n",
      "UPLOADING ITEM\n",
      "{'ResponseMetadata': {'RequestId': 'JB819U59UO7EAKM8QA3UL8J3V7VV4KQNSO5AEMVJF66Q9ASUAAJG', 'HTTPStatusCode': 200, 'HTTPHeaders': {'server': 'Server', 'date': 'Sun, 04 Dec 2022 17:06:55 GMT', 'content-type': 'application/x-amz-json-1.0', 'content-length': '2', 'connection': 'keep-alive', 'x-amzn-requestid': 'JB819U59UO7EAKM8QA3UL8J3V7VV4KQNSO5AEMVJF66Q9ASUAAJG', 'x-amz-crc32': '2745614147'}, 'RetryAttempts': 0}}\n"
     ]
    }
   ],
   "source": [
    "upload()"
   ]
  },
  {
   "cell_type": "markdown",
   "id": "7b90e29c",
   "metadata": {},
   "source": [
    "## Select item"
   ]
  },
  {
   "cell_type": "markdown",
   "id": "b27da4ea",
   "metadata": {},
   "source": [
    "### DynamoDB client"
   ]
  },
  {
   "cell_type": "code",
   "execution_count": 11,
   "id": "b461c131",
   "metadata": {},
   "outputs": [],
   "source": [
    "response = dynamodb.get_item(\n",
    "    TableName='basicSongsTable',\n",
    "    Key={\n",
    "        'artist': {'S': 'Arturus Ardvarkian'},\n",
    "        'song': {'S': 'Carrot Eton'}\n",
    "    }\n",
    ")"
   ]
  },
  {
   "cell_type": "code",
   "execution_count": 12,
   "id": "1f67140a",
   "metadata": {},
   "outputs": [
    {
     "name": "stdout",
     "output_type": "stream",
     "text": [
      "{'priceUsdCents': {'S': '161'}, 'artist': {'S': 'Arturus Ardvarkian'}, 'song': {'S': 'Carrot Eton'}, 'publisher': {'S': 'MUSICMAN INC'}, 'id': {'S': 'dbea9bd8-fe1f-478a-a98a-5b46d481cf57'}}\n"
     ]
    }
   ],
   "source": [
    "print(response['Item'])"
   ]
  },
  {
   "cell_type": "markdown",
   "id": "85a09b99",
   "metadata": {},
   "source": [
    "### DynamoDB client"
   ]
  },
  {
   "cell_type": "code",
   "execution_count": 13,
   "id": "104d8b8a",
   "metadata": {},
   "outputs": [],
   "source": [
    "table = dynamodb_res.Table('basicSongsTable')\n",
    "\n",
    "response = table.get_item(\n",
    "    Key={\n",
    "        'artist': 'Arturus Ardvarkian',\n",
    "        'song': 'Carrot Eton'\n",
    "    }\n",
    ")\n"
   ]
  },
  {
   "cell_type": "code",
   "execution_count": 14,
   "id": "c3a3715c",
   "metadata": {},
   "outputs": [
    {
     "name": "stdout",
     "output_type": "stream",
     "text": [
      "{'priceUsdCents': '161', 'artist': 'Arturus Ardvarkian', 'song': 'Carrot Eton', 'publisher': 'MUSICMAN INC', 'id': 'dbea9bd8-fe1f-478a-a98a-5b46d481cf57'}\n"
     ]
    }
   ],
   "source": [
    "print(response['Item'])"
   ]
  },
  {
   "cell_type": "markdown",
   "id": "6d7edbf4",
   "metadata": {},
   "source": [
    "## Query data"
   ]
  },
  {
   "cell_type": "code",
   "execution_count": 15,
   "id": "6b6f3c62",
   "metadata": {},
   "outputs": [],
   "source": [
    "# Use the DynamoDB client query method to get songs by artist Arturus Ardvarkian\n",
    "# that start with \"C\"\n",
    "response = dynamodb.query(\n",
    "    TableName='basicSongsTable',\n",
    "    KeyConditionExpression='artist = :artist AND begins_with ( song , :song )',\n",
    "    ExpressionAttributeValues={\n",
    "        ':artist': {'S': 'Arturus Ardvarkian'},\n",
    "        ':song': {'S': 'C'}\n",
    "    }\n",
    ")"
   ]
  },
  {
   "cell_type": "code",
   "execution_count": 16,
   "id": "90eda4bc",
   "metadata": {},
   "outputs": [
    {
     "name": "stdout",
     "output_type": "stream",
     "text": [
      "[{'priceUsdCents': {'S': '142'}, 'artist': {'S': 'Arturus Ardvarkian'}, 'song': {'S': 'Cadet Celadon'}, 'publisher': {'S': 'MUSICMAN INC'}, 'id': {'S': 'fd7667cb-3a41-4777-93bb-ed2d0d8d7458'}}, {'priceUsdCents': {'S': '168'}, 'artist': {'S': 'Arturus Ardvarkian'}, 'song': {'S': 'Cadmium Eggplant'}, 'publisher': {'S': 'GLOBOMANTICS MUSIC'}, 'id': {'S': '30af38c6-f32d-4e7b-a571-e8641247b975'}}, {'priceUsdCents': {'S': '311'}, 'artist': {'S': 'Arturus Ardvarkian'}, 'song': {'S': 'Carnelian Cobalt'}, 'publisher': {'S': 'GLOBOMANTICS MUSIC'}, 'id': {'S': '5e8d8ff7-25a7-41c6-a1fa-ac823fda0161'}}, {'priceUsdCents': {'S': '161'}, 'artist': {'S': 'Arturus Ardvarkian'}, 'song': {'S': 'Carrot Eton'}, 'publisher': {'S': 'MUSICMAN INC'}, 'id': {'S': 'dbea9bd8-fe1f-478a-a98a-5b46d481cf57'}}]\n"
     ]
    }
   ],
   "source": [
    "print(response['Items'])"
   ]
  },
  {
   "cell_type": "code",
   "execution_count": 17,
   "id": "c00915a1",
   "metadata": {},
   "outputs": [],
   "source": [
    "response = dynamodb.query(\n",
    "    TableName='basicSongsTable',\n",
    "    KeyConditionExpression='artist = :artist AND song < :song',\n",
    "    ExpressionAttributeValues={\n",
    "        ':artist': {'S': 'Arturus Ardvarkian'},\n",
    "        ':song': {'S': 'C'}\n",
    "    }\n",
    ")"
   ]
  },
  {
   "cell_type": "code",
   "execution_count": 18,
   "id": "76139aec",
   "metadata": {},
   "outputs": [
    {
     "name": "stdout",
     "output_type": "stream",
     "text": [
      "[{'priceUsdCents': {'S': '312'}, 'artist': {'S': 'Arturus Ardvarkian'}, 'song': {'S': 'Baker Firebrick'}, 'publisher': {'S': 'MUSICMAN INC'}, 'id': {'S': '1a4e5bc5-4fa3-4b37-9d36-e15dc9ab6b21'}}, {'priceUsdCents': {'S': '153'}, 'artist': {'S': 'Arturus Ardvarkian'}, 'song': {'S': 'Bleu Cinnamon'}, 'publisher': {'S': 'GLOBOMANTICS MUSIC'}, 'id': {'S': 'f90cef82-bd0a-44a9-bd3a-bd743c140ced'}}, {'priceUsdCents': {'S': '381'}, 'artist': {'S': 'Arturus Ardvarkian'}, 'song': {'S': 'Brick Cerulean'}, 'publisher': {'S': 'GLOBOMANTICS MUSIC'}, 'id': {'S': '65ce7700-c32d-415c-9bf4-26f4e4911372'}}, {'priceUsdCents': {'S': '166'}, 'artist': {'S': 'Arturus Ardvarkian'}, 'song': {'S': 'Bright Cerulean'}, 'publisher': {'S': 'GLOBOMANTICS MUSIC'}, 'id': {'S': '84024726-d9ba-4dd4-830d-1022f79eca97'}}, {'priceUsdCents': {'S': '273'}, 'artist': {'S': 'Arturus Ardvarkian'}, 'song': {'S': 'Bright Electric'}, 'publisher': {'S': 'GLOBOMANTICS MUSIC'}, 'id': {'S': 'ced73077-f8c7-40d0-96ee-8d995baa080b'}}]\n"
     ]
    }
   ],
   "source": [
    "print(response['Items'])"
   ]
  },
  {
   "cell_type": "code",
   "execution_count": 19,
   "id": "120ff0a4",
   "metadata": {},
   "outputs": [],
   "source": [
    "# Use the DynamoDB client query method to get songs by artist Arturus Ardvarkian\n",
    "# that have a song attribute value BETWEEN 'D' and 'Bz'\n",
    "response = dynamodb.query(\n",
    "    TableName='basicSongsTable',\n",
    "    KeyConditionExpression='artist = :artist AND song BETWEEN :songval1 AND :songval2',\n",
    "    ExpressionAttributeValues={\n",
    "        ':artist': {'S': 'Arturus Ardvarkian'},\n",
    "        ':songval1': {'S': 'Bz'},\n",
    "        ':songval2': {'S': 'D'}\n",
    "    }\n",
    ")"
   ]
  },
  {
   "cell_type": "code",
   "execution_count": 20,
   "id": "0e4e031b",
   "metadata": {},
   "outputs": [
    {
     "name": "stdout",
     "output_type": "stream",
     "text": [
      "[{'priceUsdCents': {'S': '142'}, 'artist': {'S': 'Arturus Ardvarkian'}, 'song': {'S': 'Cadet Celadon'}, 'publisher': {'S': 'MUSICMAN INC'}, 'id': {'S': 'fd7667cb-3a41-4777-93bb-ed2d0d8d7458'}}, {'priceUsdCents': {'S': '168'}, 'artist': {'S': 'Arturus Ardvarkian'}, 'song': {'S': 'Cadmium Eggplant'}, 'publisher': {'S': 'GLOBOMANTICS MUSIC'}, 'id': {'S': '30af38c6-f32d-4e7b-a571-e8641247b975'}}, {'priceUsdCents': {'S': '311'}, 'artist': {'S': 'Arturus Ardvarkian'}, 'song': {'S': 'Carnelian Cobalt'}, 'publisher': {'S': 'GLOBOMANTICS MUSIC'}, 'id': {'S': '5e8d8ff7-25a7-41c6-a1fa-ac823fda0161'}}, {'priceUsdCents': {'S': '161'}, 'artist': {'S': 'Arturus Ardvarkian'}, 'song': {'S': 'Carrot Eton'}, 'publisher': {'S': 'MUSICMAN INC'}, 'id': {'S': 'dbea9bd8-fe1f-478a-a98a-5b46d481cf57'}}]\n"
     ]
    }
   ],
   "source": [
    "print(response['Items'])"
   ]
  },
  {
   "cell_type": "code",
   "execution_count": 21,
   "id": "f9628f3b",
   "metadata": {},
   "outputs": [
    {
     "data": {
      "text/plain": [
       "{'Items': [{'priceUsdCents': {'S': '142'},\n",
       "   'artist': {'S': 'Arturus Ardvarkian'},\n",
       "   'song': {'S': 'Cadet Celadon'},\n",
       "   'publisher': {'S': 'MUSICMAN INC'},\n",
       "   'id': {'S': 'fd7667cb-3a41-4777-93bb-ed2d0d8d7458'}},\n",
       "  {'priceUsdCents': {'S': '168'},\n",
       "   'artist': {'S': 'Arturus Ardvarkian'},\n",
       "   'song': {'S': 'Cadmium Eggplant'},\n",
       "   'publisher': {'S': 'GLOBOMANTICS MUSIC'},\n",
       "   'id': {'S': '30af38c6-f32d-4e7b-a571-e8641247b975'}},\n",
       "  {'priceUsdCents': {'S': '311'},\n",
       "   'artist': {'S': 'Arturus Ardvarkian'},\n",
       "   'song': {'S': 'Carnelian Cobalt'},\n",
       "   'publisher': {'S': 'GLOBOMANTICS MUSIC'},\n",
       "   'id': {'S': '5e8d8ff7-25a7-41c6-a1fa-ac823fda0161'}},\n",
       "  {'priceUsdCents': {'S': '161'},\n",
       "   'artist': {'S': 'Arturus Ardvarkian'},\n",
       "   'song': {'S': 'Carrot Eton'},\n",
       "   'publisher': {'S': 'MUSICMAN INC'},\n",
       "   'id': {'S': 'dbea9bd8-fe1f-478a-a98a-5b46d481cf57'}}],\n",
       " 'Count': 4,\n",
       " 'ScannedCount': 4,\n",
       " 'ResponseMetadata': {'RequestId': '7DOJT6SFOVS1TM68PBUR6LJHGNVV4KQNSO5AEMVJF66Q9ASUAAJG',\n",
       "  'HTTPStatusCode': 200,\n",
       "  'HTTPHeaders': {'server': 'Server',\n",
       "   'date': 'Sun, 04 Dec 2022 17:07:18 GMT',\n",
       "   'content-type': 'application/x-amz-json-1.0',\n",
       "   'content-length': '766',\n",
       "   'connection': 'keep-alive',\n",
       "   'x-amzn-requestid': '7DOJT6SFOVS1TM68PBUR6LJHGNVV4KQNSO5AEMVJF66Q9ASUAAJG',\n",
       "   'x-amz-crc32': '1294922122'},\n",
       "  'RetryAttempts': 0}}"
      ]
     },
     "execution_count": 21,
     "metadata": {},
     "output_type": "execute_result"
    }
   ],
   "source": [
    "response"
   ]
  },
  {
   "cell_type": "code",
   "execution_count": 22,
   "id": "d6a4807a",
   "metadata": {},
   "outputs": [],
   "source": [
    "df2=pd.DataFrame.from_dict([response['Items'][0]])\n",
    "df2.truncate()\n",
    "\n",
    "for i in range(0, response['Count']):\n",
    "    df1=pd.DataFrame.from_dict([response['Items'][i]])\n",
    "    df2=pd.concat([df1, df2])"
   ]
  },
  {
   "cell_type": "code",
   "execution_count": 23,
   "id": "8b9da30b",
   "metadata": {},
   "outputs": [
    {
     "data": {
      "text/html": [
       "<div>\n",
       "<style scoped>\n",
       "    .dataframe tbody tr th:only-of-type {\n",
       "        vertical-align: middle;\n",
       "    }\n",
       "\n",
       "    .dataframe tbody tr th {\n",
       "        vertical-align: top;\n",
       "    }\n",
       "\n",
       "    .dataframe thead th {\n",
       "        text-align: right;\n",
       "    }\n",
       "</style>\n",
       "<table border=\"1\" class=\"dataframe\">\n",
       "  <thead>\n",
       "    <tr style=\"text-align: right;\">\n",
       "      <th></th>\n",
       "      <th>priceUsdCents</th>\n",
       "      <th>artist</th>\n",
       "      <th>song</th>\n",
       "      <th>publisher</th>\n",
       "      <th>id</th>\n",
       "    </tr>\n",
       "  </thead>\n",
       "  <tbody>\n",
       "    <tr>\n",
       "      <th>0</th>\n",
       "      <td>{'S': '161'}</td>\n",
       "      <td>{'S': 'Arturus Ardvarkian'}</td>\n",
       "      <td>{'S': 'Carrot Eton'}</td>\n",
       "      <td>{'S': 'MUSICMAN INC'}</td>\n",
       "      <td>{'S': 'dbea9bd8-fe1f-478a-a98a-5b46d481cf57'}</td>\n",
       "    </tr>\n",
       "    <tr>\n",
       "      <th>0</th>\n",
       "      <td>{'S': '311'}</td>\n",
       "      <td>{'S': 'Arturus Ardvarkian'}</td>\n",
       "      <td>{'S': 'Carnelian Cobalt'}</td>\n",
       "      <td>{'S': 'GLOBOMANTICS MUSIC'}</td>\n",
       "      <td>{'S': '5e8d8ff7-25a7-41c6-a1fa-ac823fda0161'}</td>\n",
       "    </tr>\n",
       "    <tr>\n",
       "      <th>0</th>\n",
       "      <td>{'S': '168'}</td>\n",
       "      <td>{'S': 'Arturus Ardvarkian'}</td>\n",
       "      <td>{'S': 'Cadmium Eggplant'}</td>\n",
       "      <td>{'S': 'GLOBOMANTICS MUSIC'}</td>\n",
       "      <td>{'S': '30af38c6-f32d-4e7b-a571-e8641247b975'}</td>\n",
       "    </tr>\n",
       "    <tr>\n",
       "      <th>0</th>\n",
       "      <td>{'S': '142'}</td>\n",
       "      <td>{'S': 'Arturus Ardvarkian'}</td>\n",
       "      <td>{'S': 'Cadet Celadon'}</td>\n",
       "      <td>{'S': 'MUSICMAN INC'}</td>\n",
       "      <td>{'S': 'fd7667cb-3a41-4777-93bb-ed2d0d8d7458'}</td>\n",
       "    </tr>\n",
       "    <tr>\n",
       "      <th>0</th>\n",
       "      <td>{'S': '142'}</td>\n",
       "      <td>{'S': 'Arturus Ardvarkian'}</td>\n",
       "      <td>{'S': 'Cadet Celadon'}</td>\n",
       "      <td>{'S': 'MUSICMAN INC'}</td>\n",
       "      <td>{'S': 'fd7667cb-3a41-4777-93bb-ed2d0d8d7458'}</td>\n",
       "    </tr>\n",
       "  </tbody>\n",
       "</table>\n",
       "</div>"
      ],
      "text/plain": [
       "  priceUsdCents                       artist                       song  \\\n",
       "0  {'S': '161'}  {'S': 'Arturus Ardvarkian'}       {'S': 'Carrot Eton'}   \n",
       "0  {'S': '311'}  {'S': 'Arturus Ardvarkian'}  {'S': 'Carnelian Cobalt'}   \n",
       "0  {'S': '168'}  {'S': 'Arturus Ardvarkian'}  {'S': 'Cadmium Eggplant'}   \n",
       "0  {'S': '142'}  {'S': 'Arturus Ardvarkian'}     {'S': 'Cadet Celadon'}   \n",
       "0  {'S': '142'}  {'S': 'Arturus Ardvarkian'}     {'S': 'Cadet Celadon'}   \n",
       "\n",
       "                     publisher                                             id  \n",
       "0        {'S': 'MUSICMAN INC'}  {'S': 'dbea9bd8-fe1f-478a-a98a-5b46d481cf57'}  \n",
       "0  {'S': 'GLOBOMANTICS MUSIC'}  {'S': '5e8d8ff7-25a7-41c6-a1fa-ac823fda0161'}  \n",
       "0  {'S': 'GLOBOMANTICS MUSIC'}  {'S': '30af38c6-f32d-4e7b-a571-e8641247b975'}  \n",
       "0        {'S': 'MUSICMAN INC'}  {'S': 'fd7667cb-3a41-4777-93bb-ed2d0d8d7458'}  \n",
       "0        {'S': 'MUSICMAN INC'}  {'S': 'fd7667cb-3a41-4777-93bb-ed2d0d8d7458'}  "
      ]
     },
     "execution_count": 23,
     "metadata": {},
     "output_type": "execute_result"
    }
   ],
   "source": [
    "df2"
   ]
  },
  {
   "cell_type": "markdown",
   "id": "2ad58a31",
   "metadata": {},
   "source": [
    "## Get list of tables"
   ]
  },
  {
   "cell_type": "code",
   "execution_count": 24,
   "id": "6130ce10",
   "metadata": {},
   "outputs": [
    {
     "name": "stdout",
     "output_type": "stream",
     "text": [
      "[dynamodb.Table(name='basicSongsTable')]\n"
     ]
    }
   ],
   "source": [
    "tables = list(dynamodb_res.tables.all())\n",
    "print(tables)"
   ]
  },
  {
   "cell_type": "markdown",
   "id": "00c2f526",
   "metadata": {},
   "source": [
    "## Put (aka insert) row"
   ]
  },
  {
   "cell_type": "code",
   "execution_count": 25,
   "id": "daf99fe7",
   "metadata": {},
   "outputs": [],
   "source": [
    "table = dynamodb_res.Table('basicSongsTable')\n",
    "\n",
    "response = table.put_item(\n",
    "    Item={\n",
    "        'artist': 'Green Day',\n",
    "        'song': 'basket case',\n",
    "    }\n",
    ")"
   ]
  },
  {
   "cell_type": "code",
   "execution_count": 26,
   "id": "c0b48b93",
   "metadata": {},
   "outputs": [
    {
     "data": {
      "text/plain": [
       "{'ResponseMetadata': {'RequestId': '4636OBIQDIS22I4GCDEDP05607VV4KQNSO5AEMVJF66Q9ASUAAJG',\n",
       "  'HTTPStatusCode': 200,\n",
       "  'HTTPHeaders': {'server': 'Server',\n",
       "   'date': 'Sun, 04 Dec 2022 17:07:32 GMT',\n",
       "   'content-type': 'application/x-amz-json-1.0',\n",
       "   'content-length': '2',\n",
       "   'connection': 'keep-alive',\n",
       "   'x-amzn-requestid': '4636OBIQDIS22I4GCDEDP05607VV4KQNSO5AEMVJF66Q9ASUAAJG',\n",
       "   'x-amz-crc32': '2745614147'},\n",
       "  'RetryAttempts': 0}}"
      ]
     },
     "execution_count": 26,
     "metadata": {},
     "output_type": "execute_result"
    }
   ],
   "source": [
    "response"
   ]
  },
  {
   "cell_type": "markdown",
   "id": "a054c4fe",
   "metadata": {},
   "source": [
    "## Update an item"
   ]
  },
  {
   "cell_type": "code",
   "execution_count": 27,
   "id": "0b6a007a",
   "metadata": {},
   "outputs": [],
   "source": [
    "table = dynamodb_res.Table('basicSongsTable')\n",
    "\n",
    "response = table.update_item(\n",
    "    Key={\n",
    "        'artist': 'Green Day',\n",
    "        'song' : 'basket case'\n",
    "    },\n",
    "    UpdateExpression='SET priceUsdCents = :newPrice',\n",
    "    ExpressionAttributeValues={\n",
    "        ':newPrice': 21\n",
    "    },\n",
    "    ReturnValues=\"UPDATED_NEW\"\n",
    ")"
   ]
  },
  {
   "cell_type": "code",
   "execution_count": 28,
   "id": "4519307a",
   "metadata": {},
   "outputs": [
    {
     "data": {
      "text/plain": [
       "{'Attributes': {'priceUsdCents': Decimal('21')},\n",
       " 'ResponseMetadata': {'RequestId': 'AGNIQ33Q7JOAECOPCKO3EV4M8JVV4KQNSO5AEMVJF66Q9ASUAAJG',\n",
       "  'HTTPStatusCode': 200,\n",
       "  'HTTPHeaders': {'server': 'Server',\n",
       "   'date': 'Sun, 04 Dec 2022 17:07:36 GMT',\n",
       "   'content-type': 'application/x-amz-json-1.0',\n",
       "   'content-length': '43',\n",
       "   'connection': 'keep-alive',\n",
       "   'x-amzn-requestid': 'AGNIQ33Q7JOAECOPCKO3EV4M8JVV4KQNSO5AEMVJF66Q9ASUAAJG',\n",
       "   'x-amz-crc32': '1042384591'},\n",
       "  'RetryAttempts': 0}}"
      ]
     },
     "execution_count": 28,
     "metadata": {},
     "output_type": "execute_result"
    }
   ],
   "source": [
    "response"
   ]
  },
  {
   "cell_type": "markdown",
   "id": "f9e7375b",
   "metadata": {},
   "source": [
    "## Update item (with condition)"
   ]
  },
  {
   "cell_type": "code",
   "execution_count": 29,
   "id": "92b10c67",
   "metadata": {},
   "outputs": [],
   "source": [
    "table = dynamodb_res.Table('basicSongsTable')\n",
    "\n",
    "response = table.update_item(\n",
    "    Key={\n",
    "        'artist': 'Green Day',\n",
    "        'song' : 'basket case'\n",
    "    },\n",
    "    UpdateExpression='SET priceUsdCents = :newPrice',\n",
    "    ExpressionAttributeValues={\n",
    "        ':newPrice': 80\n",
    "    },\n",
    "    ConditionExpression='attribute_not_exists(Id)',\n",
    "    ReturnValues=\"UPDATED_NEW\"\n",
    ")"
   ]
  },
  {
   "cell_type": "code",
   "execution_count": 30,
   "id": "770c3188",
   "metadata": {},
   "outputs": [
    {
     "data": {
      "text/plain": [
       "{'Attributes': {'priceUsdCents': Decimal('80')},\n",
       " 'ResponseMetadata': {'RequestId': 'Q06HT9OT8HKMHH9VRO0RJ905VVVV4KQNSO5AEMVJF66Q9ASUAAJG',\n",
       "  'HTTPStatusCode': 200,\n",
       "  'HTTPHeaders': {'server': 'Server',\n",
       "   'date': 'Sun, 04 Dec 2022 17:07:40 GMT',\n",
       "   'content-type': 'application/x-amz-json-1.0',\n",
       "   'content-length': '43',\n",
       "   'connection': 'keep-alive',\n",
       "   'x-amzn-requestid': 'Q06HT9OT8HKMHH9VRO0RJ905VVVV4KQNSO5AEMVJF66Q9ASUAAJG',\n",
       "   'x-amz-crc32': '2732231705'},\n",
       "  'RetryAttempts': 0}}"
      ]
     },
     "execution_count": 30,
     "metadata": {},
     "output_type": "execute_result"
    }
   ],
   "source": [
    "response"
   ]
  },
  {
   "cell_type": "markdown",
   "id": "78b210a4",
   "metadata": {},
   "source": [
    "## Delete item"
   ]
  },
  {
   "cell_type": "code",
   "execution_count": 31,
   "id": "9616f9db",
   "metadata": {},
   "outputs": [],
   "source": [
    "table = dynamodb_res.Table('basicSongsTable')\n",
    "\n",
    "response = table.delete_item(Key={\n",
    "        'artist': 'Green Day',\n",
    "        'song' : 'basket case'\n",
    "})"
   ]
  },
  {
   "cell_type": "code",
   "execution_count": 32,
   "id": "ab5c0d90",
   "metadata": {},
   "outputs": [
    {
     "data": {
      "text/plain": [
       "{'ResponseMetadata': {'RequestId': '45717HLAD63K26R076FA85BDORVV4KQNSO5AEMVJF66Q9ASUAAJG',\n",
       "  'HTTPStatusCode': 200,\n",
       "  'HTTPHeaders': {'server': 'Server',\n",
       "   'date': 'Sun, 04 Dec 2022 17:07:44 GMT',\n",
       "   'content-type': 'application/x-amz-json-1.0',\n",
       "   'content-length': '2',\n",
       "   'connection': 'keep-alive',\n",
       "   'x-amzn-requestid': '45717HLAD63K26R076FA85BDORVV4KQNSO5AEMVJF66Q9ASUAAJG',\n",
       "   'x-amz-crc32': '2745614147'},\n",
       "  'RetryAttempts': 0}}"
      ]
     },
     "execution_count": 32,
     "metadata": {},
     "output_type": "execute_result"
    }
   ],
   "source": [
    "response"
   ]
  },
  {
   "cell_type": "markdown",
   "id": "222c9508",
   "metadata": {},
   "source": [
    "## Delete table"
   ]
  },
  {
   "cell_type": "code",
   "execution_count": 33,
   "id": "9448ae82",
   "metadata": {},
   "outputs": [
    {
     "data": {
      "text/plain": [
       "{'TableDescription': {'TableName': 'basicSongsTable',\n",
       "  'TableStatus': 'DELETING',\n",
       "  'ProvisionedThroughput': {'NumberOfDecreasesToday': 0,\n",
       "   'ReadCapacityUnits': 1,\n",
       "   'WriteCapacityUnits': 1},\n",
       "  'TableSizeBytes': 0,\n",
       "  'ItemCount': 0,\n",
       "  'TableArn': 'arn:aws:dynamodb:us-east-1:526274010548:table/basicSongsTable',\n",
       "  'TableId': '5ceadb8d-2790-469d-b51d-cab763e4cdf9'},\n",
       " 'ResponseMetadata': {'RequestId': 'P4G4JHI5QRLA7SFMAETSTAHH87VV4KQNSO5AEMVJF66Q9ASUAAJG',\n",
       "  'HTTPStatusCode': 200,\n",
       "  'HTTPHeaders': {'server': 'Server',\n",
       "   'date': 'Sun, 04 Dec 2022 17:07:53 GMT',\n",
       "   'content-type': 'application/x-amz-json-1.0',\n",
       "   'content-length': '332',\n",
       "   'connection': 'keep-alive',\n",
       "   'x-amzn-requestid': 'P4G4JHI5QRLA7SFMAETSTAHH87VV4KQNSO5AEMVJF66Q9ASUAAJG',\n",
       "   'x-amz-crc32': '2967664150'},\n",
       "  'RetryAttempts': 0}}"
      ]
     },
     "execution_count": 33,
     "metadata": {},
     "output_type": "execute_result"
    }
   ],
   "source": [
    "dynamodb.delete_table(\n",
    "    TableName=\"basicSongsTable\"\n",
    ")"
   ]
  }
 ],
 "metadata": {
  "kernelspec": {
   "display_name": "my_env",
   "language": "python",
   "name": "my_env"
  },
  "language_info": {
   "codemirror_mode": {
    "name": "ipython",
    "version": 3
   },
   "file_extension": ".py",
   "mimetype": "text/x-python",
   "name": "python",
   "nbconvert_exporter": "python",
   "pygments_lexer": "ipython3",
   "version": "3.8.0"
  }
 },
 "nbformat": 4,
 "nbformat_minor": 5
}
