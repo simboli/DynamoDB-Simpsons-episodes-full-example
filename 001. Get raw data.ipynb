{
 "cells": [
  {
   "cell_type": "markdown",
   "id": "e6abc8b3",
   "metadata": {},
   "source": [
    "# Get RAW data"
   ]
  },
  {
   "cell_type": "markdown",
   "id": "c7ae853c",
   "metadata": {},
   "source": [
    "## Modules"
   ]
  },
  {
   "cell_type": "code",
   "execution_count": 1,
   "id": "b0f0af10",
   "metadata": {},
   "outputs": [],
   "source": [
    "import requests\n",
    "import json"
   ]
  },
  {
   "cell_type": "markdown",
   "id": "2888ee1b",
   "metadata": {},
   "source": [
    "We will use the \"Wikipedia Table API\" to extract data from Wikipedia web page where all the episodes of The Simpsons are listed.\n",
    "\n",
    "Reference:\n",
    "- https://www.wikitable2json.com/\n",
    "- https://github.com/atye/wikitable2json/\n",
    "\n",
    "Wikipedia pages\n",
    "- https://en.wikipedia.org/wiki/List_of_The_Simpsons_episodes_(seasons_1%E2%80%9320)\n",
    "- https://en.wikipedia.org/wiki/List_of_The_Simpsons_episodes_(season_21%E2%80%93present)"
   ]
  },
  {
   "cell_type": "markdown",
   "id": "3ddaa566",
   "metadata": {},
   "source": [
    "Wikipedia store information of episodes of each serie in one table. We have to exclude the first table of each page because it is a sort of index."
   ]
  },
  {
   "cell_type": "markdown",
   "id": "21a0584b",
   "metadata": {},
   "source": [
    "Consider that the API use 0-index enumeration of the table, so we have to use table=1 parameter to get the second table and so on.\n",
    "\n",
    "https://www.wikitable2json.com/api/List_of_The_Simpsons_episodes_(seasons_1%E2%80%9320)?table=1&&keyRows=1&lang=en\n"
   ]
  },
  {
   "cell_type": "code",
   "execution_count": 2,
   "id": "1177aadc",
   "metadata": {},
   "outputs": [
    {
     "name": "stdout",
     "output_type": "stream",
     "text": [
      "Parameters:  {'Rows': 1, 'lang': 'en', 'table': 1}\n"
     ]
    }
   ],
   "source": [
    "url1='https://www.wikitable2json.com/api/List_of_The_Simpsons_episodes_(seasons_1%E2%80%9320)'\n",
    "url2='https://www.wikitable2json.com/api/List_of_The_Simpsons_episodes_(season_21%E2%80%93present)'\n",
    "payload = {'Rows': 1, 'lang': 'en', 'table': 1}\n",
    "print(\"Parameters: \",payload)"
   ]
  },
  {
   "cell_type": "code",
   "execution_count": 3,
   "id": "2603b0e4",
   "metadata": {},
   "outputs": [],
   "source": [
    "destination_folder='01.Raw data'\n",
    "destination_filename_prefix='Episodes_RAW_S'"
   ]
  },
  {
   "cell_type": "markdown",
   "id": "eea94951",
   "metadata": {},
   "source": [
    "## Download of episodes"
   ]
  },
  {
   "cell_type": "markdown",
   "id": "b2143051",
   "metadata": {},
   "source": [
    "### Part one"
   ]
  },
  {
   "cell_type": "code",
   "execution_count": 4,
   "id": "2608ce4c",
   "metadata": {},
   "outputs": [
    {
     "name": "stdout",
     "output_type": "stream",
     "text": [
      "{'Rows': 1, 'lang': 'en', 'table': 1}\n",
      "Season 1: 200\n",
      "{'Rows': 1, 'lang': 'en', 'table': 2}\n",
      "Season 2: 200\n",
      "{'Rows': 1, 'lang': 'en', 'table': 3}\n",
      "Season 3: 200\n",
      "{'Rows': 1, 'lang': 'en', 'table': 4}\n",
      "Season 4: 200\n",
      "{'Rows': 1, 'lang': 'en', 'table': 5}\n",
      "Season 5: 200\n",
      "{'Rows': 1, 'lang': 'en', 'table': 6}\n",
      "Season 6: 200\n",
      "{'Rows': 1, 'lang': 'en', 'table': 7}\n",
      "Season 7: 200\n",
      "{'Rows': 1, 'lang': 'en', 'table': 8}\n",
      "Season 8: 200\n",
      "{'Rows': 1, 'lang': 'en', 'table': 9}\n",
      "Season 9: 200\n",
      "{'Rows': 1, 'lang': 'en', 'table': 10}\n",
      "Season 10: 200\n",
      "{'Rows': 1, 'lang': 'en', 'table': 11}\n",
      "Season 11: 200\n",
      "{'Rows': 1, 'lang': 'en', 'table': 12}\n",
      "Season 12: 200\n",
      "{'Rows': 1, 'lang': 'en', 'table': 13}\n",
      "Season 13: 200\n",
      "{'Rows': 1, 'lang': 'en', 'table': 14}\n",
      "Season 14: 200\n",
      "{'Rows': 1, 'lang': 'en', 'table': 15}\n",
      "Season 15: 200\n",
      "{'Rows': 1, 'lang': 'en', 'table': 16}\n",
      "Season 16: 200\n",
      "{'Rows': 1, 'lang': 'en', 'table': 17}\n",
      "Season 17: 200\n",
      "{'Rows': 1, 'lang': 'en', 'table': 18}\n",
      "Season 18: 200\n",
      "{'Rows': 1, 'lang': 'en', 'table': 19}\n",
      "Season 19: 200\n"
     ]
    }
   ],
   "source": [
    "for x in range(1, 20):    \n",
    "    # Update parameters\n",
    "    payload.update({\"table\": x})\n",
    "    print(payload)\n",
    "    \n",
    "    # Calculate destination file path\n",
    "    destination_filepath=destination_folder+'/'+destination_filename_prefix+str(x).zfill(2)+'.json'\n",
    "    \n",
    "    # Request of API response\n",
    "    resp = requests.get(url1, payload)\n",
    "    print(\"Season %d: %d\" % (x,resp.status_code))\n",
    "    \n",
    "    # Read response and transform it to JSON\n",
    "    data = resp.json()\n",
    "    \n",
    "    # Write to file\n",
    "    with open(destination_filepath, 'w', encoding='utf-8') as f:\n",
    "        json.dump(data, f, ensure_ascii=False, indent=4)"
   ]
  },
  {
   "cell_type": "markdown",
   "id": "bd4373ea",
   "metadata": {},
   "source": [
    "### Part two"
   ]
  },
  {
   "cell_type": "code",
   "execution_count": 5,
   "id": "3d4092c7",
   "metadata": {},
   "outputs": [
    {
     "name": "stdout",
     "output_type": "stream",
     "text": [
      "{'Rows': 1, 'lang': 'en', 'table': 1}\n",
      "Season 21: 200\n",
      "{'Rows': 1, 'lang': 'en', 'table': 3}\n",
      "Season 22: 200\n",
      "{'Rows': 1, 'lang': 'en', 'table': 4}\n",
      "Season 23: 200\n",
      "{'Rows': 1, 'lang': 'en', 'table': 5}\n",
      "Season 24: 200\n",
      "{'Rows': 1, 'lang': 'en', 'table': 6}\n",
      "Season 25: 200\n",
      "{'Rows': 1, 'lang': 'en', 'table': 8}\n",
      "Season 26: 200\n",
      "{'Rows': 1, 'lang': 'en', 'table': 9}\n",
      "Season 27: 200\n",
      "{'Rows': 1, 'lang': 'en', 'table': 10}\n",
      "Season 28: 200\n",
      "{'Rows': 1, 'lang': 'en', 'table': 11}\n",
      "Season 29: 200\n",
      "{'Rows': 1, 'lang': 'en', 'table': 12}\n",
      "Season 30: 200\n",
      "{'Rows': 1, 'lang': 'en', 'table': 13}\n",
      "Season 31: 200\n",
      "{'Rows': 1, 'lang': 'en', 'table': 14}\n",
      "Season 32: 200\n",
      "{'Rows': 1, 'lang': 'en', 'table': 15}\n",
      "Season 33: 200\n",
      "{'Rows': 1, 'lang': 'en', 'table': 16}\n",
      "Season 34: 200\n"
     ]
    }
   ],
   "source": [
    "# Starting season correction\n",
    "n = 21\n",
    "\n",
    "for x in [1,3,4,5,6,8,9,10,11,12,13,14,15,16]:\n",
    "    # Update parameters\n",
    "    payload.update({\"table\": x})\n",
    "    print(payload)\n",
    "    \n",
    "    # Calculate destination file path\n",
    "    destination_filepath=destination_folder+'/'+destination_filename_prefix+str(n).zfill(2)+'.json'\n",
    "    \n",
    "    # Request of API response\n",
    "    resp = requests.get(url2, payload)\n",
    "    print(\"Season %d: %d\" % (n,resp.status_code))\n",
    "    \n",
    "    # Read response and transform it to JSON\n",
    "    data = resp.json()\n",
    "    \n",
    "    # Write to file\n",
    "    with open(destination_filepath, 'w', encoding='utf-8') as f:\n",
    "        json.dump(data, f, ensure_ascii=False, indent=4)\n",
    "        \n",
    "    # Increment season counter\n",
    "    n=n+1\n",
    "        \n",
    "        "
   ]
  }
 ],
 "metadata": {
  "kernelspec": {
   "display_name": "my_env",
   "language": "python",
   "name": "my_env"
  },
  "language_info": {
   "codemirror_mode": {
    "name": "ipython",
    "version": 3
   },
   "file_extension": ".py",
   "mimetype": "text/x-python",
   "name": "python",
   "nbconvert_exporter": "python",
   "pygments_lexer": "ipython3",
   "version": "3.8.0"
  }
 },
 "nbformat": 4,
 "nbformat_minor": 5
}
